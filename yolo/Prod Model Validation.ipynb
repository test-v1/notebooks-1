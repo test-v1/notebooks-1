{
 "cells": [
  {
   "cell_type": "code",
   "execution_count": 142,
   "metadata": {},
   "outputs": [],
   "source": [
    "import numpy as np\n",
    "import pandas as pd\n",
    "import glob, os\n",
    "import itertools\n",
    "import matplotlib.image as mpimg\n",
    "import pickle\n",
    "import math\n",
    "import json\n",
    "\n",
    "# import classifier\n",
    "\n",
    "%matplotlib inline\n",
    "import matplotlib.pyplot as plt"
   ]
  },
  {
   "cell_type": "code",
   "execution_count": 169,
   "metadata": {},
   "outputs": [],
   "source": [
    "# TSD dataset\n",
    "failure_starts = pd.read_csv('/Users/kenneth/Projects/ga-ml/tsd/alerted.csv', index_col=0)\n",
    "failure_starts['start'] = -1\n",
    "failure_starts.update(pd.read_csv('/Users/kenneth/Projects/ga-ml/tsd/failure_starts.csv', index_col=0))\n",
    "failure_starts['start'] = failure_starts['start']*25/30 # account for the 25fps vs 30 fps bug in the code.\n",
    "\n",
    "def load_df_from_json(fn):\n",
    "    if not os.path.isfile(fn):\n",
    "        return pd.DataFrame()\n",
    "    l = [ f['fields'] for f in json.load(open(fn, 'r')) if 'fields' in f]\n",
    "    df = pd.DataFrame(l)\n",
    "    return df\n",
    "\n",
    "# def validate_ewm(fn):\n",
    "#     df = load_df_from_json(fn)\n",
    "#     if df.empty:\n",
    "#         return\n",
    "#     ser = ((df['ewm_mean'] - df['rolling_ewm'])[20:] > 1e-03)\n",
    "#     return ser[ser].count() == 0\n",
    "\n",
    "# for vid in alerted.index.values:\n",
    "#     print(vid)\n",
    "#     print(validate_ewm('/mnt/ml-data4/tsd/jsons/{}.json'.format(vid)))\n",
    "\n",
    "def load_detections(vid):\n",
    "    return load_df_from_json('/Users/kenneth/Projects/ga-ml/tsd/jsons/{}.json'.format(vid))\n",
    "\n",
    "vids = [str(i) for i in failure_starts.index.values.tolist()]"
   ]
  },
  {
   "cell_type": "code",
   "execution_count": 170,
   "metadata": {},
   "outputs": [],
   "source": [
    "settings = dict(THRESHOLD_LOW=0.11, THRESHOLD_HIGH=0.65, INIT_SAFE_FRAME_NUM=30, ROLLING_MEAN_SHORT_MULTIPLE=5.43)\n",
    "\n",
    "def is_failing(prediction, detective_sensitivity=1.0):\n",
    "    if prediction.current_frame_num < settings['INIT_SAFE_FRAME_NUM']:\n",
    "        return False\n",
    "\n",
    "    adjusted_ewm_mean = prediction.ewm_mean * detective_sensitivity\n",
    "    if adjusted_ewm_mean < settings['THRESHOLD_LOW'] + prediction.rolling_mean_long:\n",
    "        return False\n",
    "\n",
    "    if adjusted_ewm_mean > settings['THRESHOLD_HIGH'] + prediction.rolling_mean_long:\n",
    "        return True\n",
    "\n",
    "    if adjusted_ewm_mean > prediction.rolling_mean_short * settings['ROLLING_MEAN_SHORT_MULTIPLE']:\n",
    "        return True\n",
    "    \n",
    "    return False"
   ]
  },
  {
   "cell_type": "code",
   "execution_count": 171,
   "metadata": {},
   "outputs": [],
   "source": [
    "def video_fp_fn(vids, plot=False):\n",
    "    if plot:\n",
    "        plt.style.use('ggplot')\n",
    "        fig=plt.figure(figsize=(16, 16*math.ceil(len(vids)/7)))\n",
    "\n",
    "    fp = []\n",
    "    fn = []\n",
    "    tn = []\n",
    "    tp = []\n",
    "    for j, vid in enumerate(vids):\n",
    "        failure_start = failure_starts.loc[int(vid)].start\n",
    "        det = load_detections(vid)\n",
    "        det['is_failing'] = dets.apply(is_failing, axis=1)\n",
    "        failing_frames = dets[dets['is_failing']].index\n",
    "\n",
    "        if len(failing_frames) > 0:\n",
    "            detected_failure_start = dets[dets['is_failing']].index[0]\n",
    "            if failure_start < 0:\n",
    "                fp += [vid]\n",
    "            else:\n",
    "                if detected_failure_start < failure_start:\n",
    "                    fp += [vid]\n",
    "                else:\n",
    "                    tp += [vid]\n",
    "        else:\n",
    "            if failure_start < 0:\n",
    "                tn += [vid]\n",
    "            else:\n",
    "                fn += [vid]\n",
    "    return fp, fn, tn, tp\n",
    "\n",
    "# dets = load_detections(143)\n",
    "# dets['is_failing'] = dets.apply(is_failing, axis=1)\n",
    "# video_fp_fn([143])\n",
    "# dets[dets.is_failing]\n",
    "(fp, fn, tn, tp) = video_fp_fn(vids)"
   ]
  },
  {
   "cell_type": "code",
   "execution_count": 172,
   "metadata": {
    "scrolled": false
   },
   "outputs": [
    {
     "name": "stdout",
     "output_type": "stream",
     "text": [
      "127\n"
     ]
    }
   ],
   "source": [
    "print(len(tp))"
   ]
  },
  {
   "cell_type": "code",
   "execution_count": null,
   "metadata": {},
   "outputs": [],
   "source": []
  }
 ],
 "metadata": {
  "kernelspec": {
   "display_name": "Python 3",
   "language": "python",
   "name": "python3"
  },
  "language_info": {
   "codemirror_mode": {
    "name": "ipython",
    "version": 3
   },
   "file_extension": ".py",
   "mimetype": "text/x-python",
   "name": "python",
   "nbconvert_exporter": "python",
   "pygments_lexer": "ipython3",
   "version": "3.5.6"
  }
 },
 "nbformat": 4,
 "nbformat_minor": 2
}
