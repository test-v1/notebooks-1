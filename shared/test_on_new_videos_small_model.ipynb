{
 "cells": [
  {
   "cell_type": "markdown",
   "metadata": {},
   "source": [
    "# Model\n",
    "\n",
    "This model is adopted from an open-source autonomous robot project. It's a pretty simple CNN model. First several conv layers are 5x5 kernel with stride 2x2.\n",
    "\n",
    "The model has 2 output to represent 2 classes: *good* and *bad*. The activation is softmax. Loss function is cross entrophy."
   ]
  },
  {
   "cell_type": "code",
   "execution_count": 3,
   "metadata": {},
   "outputs": [
    {
     "name": "stdout",
     "output_type": "stream",
     "text": [
      "_________________________________________________________________\n",
      "Layer (type)                 Output Shape              Param #   \n",
      "=================================================================\n",
      "input_1 (InputLayer)         (None, 224, 224, 3)       0         \n",
      "_________________________________________________________________\n",
      "conv2d_1 (Conv2D)            (None, 110, 110, 24)      1824      \n",
      "_________________________________________________________________\n",
      "conv2d_2 (Conv2D)            (None, 53, 53, 32)        19232     \n",
      "_________________________________________________________________\n",
      "conv2d_3 (Conv2D)            (None, 25, 25, 64)        51264     \n",
      "_________________________________________________________________\n",
      "max_pooling2d_1 (MaxPooling2 (None, 12, 12, 64)        0         \n",
      "_________________________________________________________________\n",
      "conv2d_4 (Conv2D)            (None, 10, 10, 64)        36928     \n",
      "_________________________________________________________________\n",
      "max_pooling2d_2 (MaxPooling2 (None, 5, 5, 64)          0         \n",
      "_________________________________________________________________\n",
      "conv2d_5 (Conv2D)            (None, 3, 3, 128)         73856     \n",
      "_________________________________________________________________\n",
      "max_pooling2d_3 (MaxPooling2 (None, 1, 1, 128)         0         \n",
      "_________________________________________________________________\n",
      "flatten_1 (Flatten)          (None, 128)               0         \n",
      "_________________________________________________________________\n",
      "dropout_1 (Dropout)          (None, 128)               0         \n",
      "_________________________________________________________________\n",
      "dense_1 (Dense)              (None, 100)               12900     \n",
      "_________________________________________________________________\n",
      "dropout_2 (Dropout)          (None, 100)               0         \n",
      "_________________________________________________________________\n",
      "dense_2 (Dense)              (None, 50)                5050      \n",
      "_________________________________________________________________\n",
      "dropout_3 (Dropout)          (None, 50)                0         \n",
      "_________________________________________________________________\n",
      "dense_3 (Dense)              (None, 2)                 102       \n",
      "=================================================================\n",
      "Total params: 201,156\n",
      "Trainable params: 201,156\n",
      "Non-trainable params: 0\n",
      "_________________________________________________________________\n"
     ]
    }
   ],
   "source": [
    "from keras import applications\n",
    "from keras.preprocessing.image import ImageDataGenerator\n",
    "from keras import optimizers\n",
    "from keras.models import Sequential, Model \n",
    "from keras.layers import Dropout, Flatten, Dense, GlobalAveragePooling2D, Input, Conv2D, MaxPooling2D\n",
    "from keras import backend as k \n",
    "from keras.callbacks import ModelCheckpoint, LearningRateScheduler, TensorBoard, EarlyStopping, ReduceLROnPlateau\n",
    "\n",
    "img_width, img_height = 224,224\n",
    "train_data_dir = \"/data/generated/train-all-videos\"\n",
    "validation_data_dir = \"/data/generated/val-all-videos\"\n",
    "batch_size = 32\n",
    "epochs = 1000\n",
    "\n",
    "### Build the network \n",
    "img_input = Input(shape=(img_width, img_height, 3))\n",
    "x = Conv2D(24, (5,5), strides=(2,2), activation='relu')(img_input)\n",
    "x = Conv2D(32, (5,5), strides=(2,2), activation='relu')(x)\n",
    "x = Conv2D(64, (5,5), strides=(2,2), activation='relu')(x)\n",
    "x = MaxPooling2D((2, 2), strides=(2, 2))(x)\n",
    "x = Conv2D(64, (3,3), strides=(1,1), activation='relu')(x)\n",
    "x = MaxPooling2D((2, 2), strides=(2, 2))(x)\n",
    "x = Conv2D(128, (3,3), strides=(1,1), activation='relu')(x)\n",
    "x = MaxPooling2D((2, 2), strides=(2, 2))(x)\n",
    "x = Flatten()(x)\n",
    "x = Dropout(0.5)(x)\n",
    "x = Dense(100, activation=\"relu\")(x)\n",
    "x = Dropout(0.5)(x)\n",
    "x = Dense(50, activation=\"relu\")(x)\n",
    "x = Dropout(0.5)(x)\n",
    "predictions = Dense(2, activation=\"softmax\")(x)\n",
    "\n",
    "# creating the final model \n",
    "model_final = Model(inputs = img_input, outputs = predictions)\n",
    "\n",
    "# compile the model \n",
    "model_final.compile(loss = \"categorical_crossentropy\", optimizer = optimizers.SGD(lr=0.0001, momentum=0.9), metrics=[\"accuracy\"])\n",
    "model_final.summary()"
   ]
  },
  {
   "cell_type": "markdown",
   "metadata": {},
   "source": [
    "# Training\n",
    "\n",
    "The entire data set are split into 2 parts by *videos*:\n",
    "\n",
    "- Test set: contains 14 videos. All these 14 videos start with good print but fail at the end. These videos are then sliced into still images. ~10k \"good\" images and ~4k \"bad\" images\n",
    "\n",
    "- Training + Validation set: Contains ~100 videos of \"failed\" jobs and 10k+ videos of \"good\" jobs. The good vidoes are heavily down-sampled to make the data set a bit more balanced. Then these videos are sliced into still images. ~210k images labelled \"good\" and ~30k images labelled \"bad\". This set is then randomly split (75/25) into training and validation sets.\n",
    "\n",
    "This notebook shows the traing with 1:5 weighted loss to account for the unbalanced data set.\n",
    "\n",
    "This model is somehow different from any other models in that the validation loss kept on going down for 200+ epochs (7 days of training) until it reached about `0.05`. Most other models I have trained so far can only go as low as `0.2`.\n",
    "\n",
    "Note: When the model is trained with unweighted loss (not shown here), the model will end up with predicting most of the images as \"good\" (since they account for 90% of the samples)."
   ]
  },
  {
   "cell_type": "code",
   "execution_count": null,
   "metadata": {},
   "outputs": [
    {
     "name": "stdout",
     "output_type": "stream",
     "text": [
      "Found 180537 images belonging to 2 classes.\n",
      "Found 58489 images belonging to 2 classes.\n"
     ]
    }
   ],
   "source": [
    "train_datagen = ImageDataGenerator(\n",
    "rescale = 1./255,\n",
    "horizontal_flip = True,\n",
    "vertical_flip = True,\n",
    "fill_mode = \"nearest\",\n",
    "zoom_range = 0.3,\n",
    "width_shift_range = 0.3,\n",
    "height_shift_range=0.3,\n",
    "rotation_range=30)\n",
    "\n",
    "val_datagen = ImageDataGenerator(\n",
    "rescale = 1./255)\n",
    "\n",
    "train_generator = train_datagen.flow_from_directory(\n",
    "train_data_dir,\n",
    "target_size = (img_height, img_width),\n",
    "batch_size = batch_size,\n",
    "shuffle=True,\n",
    "class_mode = \"categorical\")\n",
    "\n",
    "validation_generator = val_datagen.flow_from_directory(\n",
    "validation_data_dir,\n",
    "batch_size = batch_size,\n",
    "target_size = (img_height, img_width),\n",
    "shuffle=True,\n",
    "class_mode = \"categorical\")\n",
    "\n",
    "nb_train_samples = train_generator.samples\n",
    "nb_validation_samples = validation_generator.samples\n",
    "\n",
    "# Save the model according to the conditions  \n",
    "checkpoint = ModelCheckpoint(\"small_model.h5\", monitor='val_loss', verbose=1, save_best_only=True, save_weights_only=False, mode='auto', period=1)\n",
    "early = EarlyStopping(monitor='val_loss', min_delta=0, patience=100, verbose=1, mode='auto')\n",
    "plateau = ReduceLROnPlateau(monitor='val_loss', factor=0.5, patience=2)\n"
   ]
  },
  {
   "cell_type": "code",
   "execution_count": null,
   "metadata": {},
   "outputs": [
    {
     "name": "stdout",
     "output_type": "stream",
     "text": [
      "Epoch 1/1000\n",
      "5641/5641 [==============================] - 2075s 368ms/step - loss: 0.9891 - acc: 0.8748 - val_loss: 0.5632 - val_acc: 0.8818\n",
      "\n",
      "Epoch 00001: val_loss improved from inf to 0.56321, saving model to small_model.h5\n",
      "Epoch 2/1000\n",
      "5641/5641 [==============================] - 2087s 370ms/step - loss: 0.9804 - acc: 0.8745 - val_loss: 0.5640 - val_acc: 0.8816\n",
      "\n",
      "Epoch 00002: val_loss did not improve\n",
      "Epoch 3/1000\n",
      "5641/5641 [==============================] - 2084s 369ms/step - loss: 0.9743 - acc: 0.8565 - val_loss: 0.5697 - val_acc: 0.8808\n",
      "\n",
      "Epoch 00003: val_loss did not improve\n",
      "Epoch 4/1000\n",
      "5641/5641 [==============================] - 2076s 368ms/step - loss: 0.9693 - acc: 0.8404 - val_loss: 0.5678 - val_acc: 0.8807\n",
      "\n",
      "Epoch 00004: val_loss did not improve\n",
      "Epoch 5/1000\n",
      "5641/5641 [==============================] - 2086s 370ms/step - loss: 0.9639 - acc: 0.8327 - val_loss: 0.5347 - val_acc: 0.8822\n",
      "\n",
      "Epoch 00005: val_loss improved from 0.56321 to 0.53469, saving model to small_model.h5\n",
      "Epoch 6/1000\n",
      "5641/5641 [==============================] - 2079s 369ms/step - loss: 0.9582 - acc: 0.8214 - val_loss: 0.5205 - val_acc: 0.8832\n",
      "\n",
      "Epoch 00006: val_loss improved from 0.53469 to 0.52054, saving model to small_model.h5\n",
      "Epoch 7/1000\n",
      "5641/5641 [==============================] - 2077s 368ms/step - loss: 0.9527 - acc: 0.8191 - val_loss: 0.4904 - val_acc: 0.8821\n",
      "\n",
      "Epoch 00007: val_loss improved from 0.52054 to 0.49040, saving model to small_model.h5\n",
      "Epoch 8/1000\n",
      "5641/5641 [==============================] - 2074s 368ms/step - loss: 0.9446 - acc: 0.8097 - val_loss: 0.5279 - val_acc: 0.8410\n",
      "\n",
      "Epoch 00008: val_loss did not improve\n",
      "Epoch 9/1000\n",
      "5641/5641 [==============================] - 2075s 368ms/step - loss: 0.9305 - acc: 0.8042 - val_loss: 0.5874 - val_acc: 0.6839\n",
      "\n",
      "Epoch 00009: val_loss did not improve\n",
      "Epoch 10/1000\n",
      "5641/5641 [==============================] - 2071s 367ms/step - loss: 0.9113 - acc: 0.7978 - val_loss: 0.4483 - val_acc: 0.8644\n",
      "\n",
      "Epoch 00010: val_loss improved from 0.49040 to 0.44828, saving model to small_model.h5\n",
      "Epoch 11/1000\n",
      "5641/5641 [==============================] - 2073s 368ms/step - loss: 0.8858 - acc: 0.7966 - val_loss: 0.4311 - val_acc: 0.8650\n",
      "\n",
      "Epoch 00011: val_loss improved from 0.44828 to 0.43107, saving model to small_model.h5\n",
      "Epoch 12/1000\n",
      "5641/5641 [==============================] - 2071s 367ms/step - loss: 0.8548 - acc: 0.7997 - val_loss: 0.4049 - val_acc: 0.8619\n",
      "\n",
      "Epoch 00012: val_loss improved from 0.43107 to 0.40486, saving model to small_model.h5\n",
      "Epoch 13/1000\n",
      "5641/5641 [==============================] - 2077s 368ms/step - loss: 0.8200 - acc: 0.8089 - val_loss: 0.3671 - val_acc: 0.8705\n",
      "\n",
      "Epoch 00013: val_loss improved from 0.40486 to 0.36709, saving model to small_model.h5\n",
      "Epoch 14/1000\n",
      "5641/5641 [==============================] - 2065s 366ms/step - loss: 0.7887 - acc: 0.8217 - val_loss: 0.3931 - val_acc: 0.8432\n",
      "\n",
      "Epoch 00014: val_loss did not improve\n",
      "Epoch 15/1000\n",
      "5641/5641 [==============================] - 2072s 367ms/step - loss: 0.7537 - acc: 0.8355 - val_loss: 0.3424 - val_acc: 0.8834\n",
      "\n",
      "Epoch 00015: val_loss improved from 0.36709 to 0.34241, saving model to small_model.h5\n",
      "Epoch 16/1000\n",
      "5641/5641 [==============================] - 2072s 367ms/step - loss: 0.7281 - acc: 0.8452 - val_loss: 0.4052 - val_acc: 0.8266\n",
      "\n",
      "Epoch 00016: val_loss did not improve\n",
      "Epoch 17/1000\n",
      "5641/5641 [==============================] - 2073s 367ms/step - loss: 0.6984 - acc: 0.8562 - val_loss: 0.4597 - val_acc: 0.7852\n",
      "\n",
      "Epoch 00017: val_loss did not improve\n",
      "Epoch 18/1000\n",
      "3001/5641 [==============>...............] - ETA: 15:33 - loss: 0.6848 - acc: 0.8625"
     ]
    },
    {
     "name": "stderr",
     "output_type": "stream",
     "text": [
      "IOPub message rate exceeded.\n",
      "The notebook server will temporarily stop sending output\n",
      "to the client in order to avoid crashing it.\n",
      "To change this limit, set the config variable\n",
      "`--NotebookApp.iopub_msg_rate_limit`.\n",
      "\n",
      "Current values:\n",
      "NotebookApp.iopub_msg_rate_limit=1000.0 (msgs/sec)\n",
      "NotebookApp.rate_limit_window=3.0 (secs)\n",
      "\n"
     ]
    },
    {
     "name": "stdout",
     "output_type": "stream",
     "text": [
      "4554/5641 [=======================>......] - ETA: 6:24 - loss: 0.6624 - acc: 0.8680"
     ]
    },
    {
     "name": "stderr",
     "output_type": "stream",
     "text": [
      "IOPub message rate exceeded.\n",
      "The notebook server will temporarily stop sending output\n",
      "to the client in order to avoid crashing it.\n",
      "To change this limit, set the config variable\n",
      "`--NotebookApp.iopub_msg_rate_limit`.\n",
      "\n",
      "Current values:\n",
      "NotebookApp.iopub_msg_rate_limit=1000.0 (msgs/sec)\n",
      "NotebookApp.rate_limit_window=3.0 (secs)\n",
      "\n"
     ]
    },
    {
     "name": "stdout",
     "output_type": "stream",
     "text": [
      "5641/5641 [==============================] - 2069s 367ms/step - loss: 0.6494 - acc: 0.8738 - val_loss: 0.4969 - val_acc: 0.7643\n",
      "\n",
      "Epoch 00020: val_loss did not improve\n",
      "Epoch 21/1000\n",
      " 459/5641 [=>............................] - ETA: 29:55 - loss: 0.6473 - acc: 0.8711"
     ]
    },
    {
     "name": "stderr",
     "output_type": "stream",
     "text": [
      "IOPub message rate exceeded.\n",
      "The notebook server will temporarily stop sending output\n",
      "to the client in order to avoid crashing it.\n",
      "To change this limit, set the config variable\n",
      "`--NotebookApp.iopub_msg_rate_limit`.\n",
      "\n",
      "Current values:\n",
      "NotebookApp.iopub_msg_rate_limit=1000.0 (msgs/sec)\n",
      "NotebookApp.rate_limit_window=3.0 (secs)\n",
      "\n"
     ]
    },
    {
     "name": "stdout",
     "output_type": "stream",
     "text": [
      "5641/5641 [==============================] - 2076s 368ms/step - loss: 0.6347 - acc: 0.8758 - val_loss: 0.2996 - val_acc: 0.8962\n",
      "\n",
      "Epoch 00021: val_loss did not improve\n",
      "Epoch 22/1000\n",
      "2401/5641 [===========>..................] - ETA: 19:00 - loss: 0.6218 - acc: 0.8807"
     ]
    },
    {
     "name": "stderr",
     "output_type": "stream",
     "text": [
      "IOPub message rate exceeded.\n",
      "The notebook server will temporarily stop sending output\n",
      "to the client in order to avoid crashing it.\n",
      "To change this limit, set the config variable\n",
      "`--NotebookApp.iopub_msg_rate_limit`.\n",
      "\n",
      "Current values:\n",
      "NotebookApp.iopub_msg_rate_limit=1000.0 (msgs/sec)\n",
      "NotebookApp.rate_limit_window=3.0 (secs)\n",
      "\n"
     ]
    },
    {
     "name": "stdout",
     "output_type": "stream",
     "text": [
      "5641/5641 [==============================] - 2068s 367ms/step - loss: 0.6055 - acc: 0.8829 - val_loss: 0.3261 - val_acc: 0.8694\n",
      "\n",
      "Epoch 00023: val_loss did not improve\n",
      "Epoch 24/1000\n",
      " 532/5641 [=>............................] - ETA: 29:30 - loss: 0.5992 - acc: 0.8858"
     ]
    },
    {
     "name": "stderr",
     "output_type": "stream",
     "text": [
      "IOPub message rate exceeded.\n",
      "The notebook server will temporarily stop sending output\n",
      "to the client in order to avoid crashing it.\n",
      "To change this limit, set the config variable\n",
      "`--NotebookApp.iopub_msg_rate_limit`.\n",
      "\n",
      "Current values:\n",
      "NotebookApp.iopub_msg_rate_limit=1000.0 (msgs/sec)\n",
      "NotebookApp.rate_limit_window=3.0 (secs)\n",
      "\n"
     ]
    },
    {
     "name": "stdout",
     "output_type": "stream",
     "text": [
      "5641/5641 [==============================] - 2067s 367ms/step - loss: 0.5967 - acc: 0.8879 - val_loss: 0.2924 - val_acc: 0.8996\n",
      "\n",
      "Epoch 00024: val_loss did not improve\n",
      "Epoch 25/1000\n",
      "2165/5641 [==========>...................] - ETA: 20:22 - loss: 0.5739 - acc: 0.8922"
     ]
    },
    {
     "name": "stderr",
     "output_type": "stream",
     "text": [
      "IOPub message rate exceeded.\n",
      "The notebook server will temporarily stop sending output\n",
      "to the client in order to avoid crashing it.\n",
      "To change this limit, set the config variable\n",
      "`--NotebookApp.iopub_msg_rate_limit`.\n",
      "\n",
      "Current values:\n",
      "NotebookApp.iopub_msg_rate_limit=1000.0 (msgs/sec)\n",
      "NotebookApp.rate_limit_window=3.0 (secs)\n",
      "\n"
     ]
    },
    {
     "name": "stdout",
     "output_type": "stream",
     "text": [
      "3122/5641 [===============>..............] - ETA: 14:49 - loss: 0.5690 - acc: 0.8946"
     ]
    },
    {
     "name": "stderr",
     "output_type": "stream",
     "text": [
      "IOPub message rate exceeded.\n",
      "The notebook server will temporarily stop sending output\n",
      "to the client in order to avoid crashing it.\n",
      "To change this limit, set the config variable\n",
      "`--NotebookApp.iopub_msg_rate_limit`.\n",
      "\n",
      "Current values:\n",
      "NotebookApp.iopub_msg_rate_limit=1000.0 (msgs/sec)\n",
      "NotebookApp.rate_limit_window=3.0 (secs)\n",
      "\n"
     ]
    },
    {
     "name": "stdout",
     "output_type": "stream",
     "text": [
      "4770/5641 [========================>.....] - ETA: 5:07 - loss: 0.5506 - acc: 0.8990"
     ]
    },
    {
     "name": "stderr",
     "output_type": "stream",
     "text": [
      "IOPub message rate exceeded.\n",
      "The notebook server will temporarily stop sending output\n",
      "to the client in order to avoid crashing it.\n",
      "To change this limit, set the config variable\n",
      "`--NotebookApp.iopub_msg_rate_limit`.\n",
      "\n",
      "Current values:\n",
      "NotebookApp.iopub_msg_rate_limit=1000.0 (msgs/sec)\n",
      "NotebookApp.rate_limit_window=3.0 (secs)\n",
      "\n"
     ]
    },
    {
     "name": "stdout",
     "output_type": "stream",
     "text": [
      "5641/5641 [==============================] - 2063s 366ms/step - loss: 0.5429 - acc: 0.9003 - val_loss: 0.2421 - val_acc: 0.9306\n",
      "\n",
      "Epoch 00029: val_loss did not improve\n",
      "Epoch 30/1000\n",
      "1004/5641 [====>.........................] - ETA: 27:03 - loss: 0.5376 - acc: 0.9036"
     ]
    },
    {
     "name": "stderr",
     "output_type": "stream",
     "text": [
      "IOPub message rate exceeded.\n",
      "The notebook server will temporarily stop sending output\n",
      "to the client in order to avoid crashing it.\n",
      "To change this limit, set the config variable\n",
      "`--NotebookApp.iopub_msg_rate_limit`.\n",
      "\n",
      "Current values:\n",
      "NotebookApp.iopub_msg_rate_limit=1000.0 (msgs/sec)\n",
      "NotebookApp.rate_limit_window=3.0 (secs)\n",
      "\n"
     ]
    },
    {
     "name": "stdout",
     "output_type": "stream",
     "text": [
      "5641/5641 [==============================] - 2068s 367ms/step - loss: 0.5389 - acc: 0.9009 - val_loss: 0.3605 - val_acc: 0.8553\n",
      "\n",
      "Epoch 00030: val_loss did not improve\n",
      "Epoch 31/1000\n",
      "1776/5641 [========>.....................] - ETA: 22:40 - loss: 0.5305 - acc: 0.9027"
     ]
    },
    {
     "name": "stderr",
     "output_type": "stream",
     "text": [
      "IOPub message rate exceeded.\n",
      "The notebook server will temporarily stop sending output\n",
      "to the client in order to avoid crashing it.\n",
      "To change this limit, set the config variable\n",
      "`--NotebookApp.iopub_msg_rate_limit`.\n",
      "\n",
      "Current values:\n",
      "NotebookApp.iopub_msg_rate_limit=1000.0 (msgs/sec)\n",
      "NotebookApp.rate_limit_window=3.0 (secs)\n",
      "\n"
     ]
    },
    {
     "name": "stdout",
     "output_type": "stream",
     "text": [
      "3441/5641 [=================>............] - ETA: 12:55 - loss: 0.5165 - acc: 0.9037"
     ]
    },
    {
     "name": "stderr",
     "output_type": "stream",
     "text": [
      "IOPub message rate exceeded.\n",
      "The notebook server will temporarily stop sending output\n",
      "to the client in order to avoid crashing it.\n",
      "To change this limit, set the config variable\n",
      "`--NotebookApp.iopub_msg_rate_limit`.\n",
      "\n",
      "Current values:\n",
      "NotebookApp.iopub_msg_rate_limit=1000.0 (msgs/sec)\n",
      "NotebookApp.rate_limit_window=3.0 (secs)\n",
      "\n"
     ]
    },
    {
     "name": "stdout",
     "output_type": "stream",
     "text": [
      "5641/5641 [==============================] - 2073s 367ms/step - loss: 0.5080 - acc: 0.9056 - val_loss: 0.3287 - val_acc: 0.8618\n",
      "\n",
      "Epoch 00033: val_loss did not improve\n",
      "Epoch 34/1000\n",
      "5641/5641 [==============================] - 2072s 367ms/step - loss: 0.5017 - acc: 0.9062 - val_loss: 0.2289 - val_acc: 0.9228\n",
      "\n",
      "Epoch 00034: val_loss did not improve\n",
      "Epoch 35/1000\n",
      "5641/5641 [==============================] - 2062s 366ms/step - loss: 0.4940 - acc: 0.9076 - val_loss: 0.2282 - val_acc: 0.9222\n",
      "\n",
      "Epoch 00035: val_loss did not improve\n",
      "Epoch 36/1000\n",
      " 510/5641 [=>............................] - ETA: 29:39 - loss: 0.4851 - acc: 0.9103"
     ]
    },
    {
     "name": "stderr",
     "output_type": "stream",
     "text": [
      "IOPub message rate exceeded.\n",
      "The notebook server will temporarily stop sending output\n",
      "to the client in order to avoid crashing it.\n",
      "To change this limit, set the config variable\n",
      "`--NotebookApp.iopub_msg_rate_limit`.\n",
      "\n",
      "Current values:\n",
      "NotebookApp.iopub_msg_rate_limit=1000.0 (msgs/sec)\n",
      "NotebookApp.rate_limit_window=3.0 (secs)\n",
      "\n"
     ]
    },
    {
     "name": "stdout",
     "output_type": "stream",
     "text": [
      "5641/5641 [==============================] - 2070s 367ms/step - loss: 0.4895 - acc: 0.9090 - val_loss: 0.1688 - val_acc: 0.9486\n",
      "\n",
      "Epoch 00036: val_loss improved from 0.22337 to 0.16876, saving model to small_model.h5\n",
      "Epoch 37/1000\n",
      "2397/5641 [===========>..................] - ETA: 19:02 - loss: 0.4907 - acc: 0.9087"
     ]
    },
    {
     "name": "stderr",
     "output_type": "stream",
     "text": [
      "IOPub message rate exceeded.\n",
      "The notebook server will temporarily stop sending output\n",
      "to the client in order to avoid crashing it.\n",
      "To change this limit, set the config variable\n",
      "`--NotebookApp.iopub_msg_rate_limit`.\n",
      "\n",
      "Current values:\n",
      "NotebookApp.iopub_msg_rate_limit=1000.0 (msgs/sec)\n",
      "NotebookApp.rate_limit_window=3.0 (secs)\n",
      "\n"
     ]
    },
    {
     "name": "stdout",
     "output_type": "stream",
     "text": [
      "5641/5641 [==============================] - 2067s 366ms/step - loss: 0.4746 - acc: 0.9096 - val_loss: 0.2564 - val_acc: 0.9028\n",
      "\n",
      "Epoch 00038: val_loss did not improve\n",
      "Epoch 39/1000\n",
      "2746/5641 [=============>................] - ETA: 17:00 - loss: 0.4787 - acc: 0.9095"
     ]
    },
    {
     "name": "stderr",
     "output_type": "stream",
     "text": [
      "IOPub message rate exceeded.\n",
      "The notebook server will temporarily stop sending output\n",
      "to the client in order to avoid crashing it.\n",
      "To change this limit, set the config variable\n",
      "`--NotebookApp.iopub_msg_rate_limit`.\n",
      "\n",
      "Current values:\n",
      "NotebookApp.iopub_msg_rate_limit=1000.0 (msgs/sec)\n",
      "NotebookApp.rate_limit_window=3.0 (secs)\n",
      "\n"
     ]
    },
    {
     "name": "stdout",
     "output_type": "stream",
     "text": [
      "5641/5641 [==============================] - 2067s 366ms/step - loss: 0.4717 - acc: 0.9104 - val_loss: 0.2925 - val_acc: 0.8785\n",
      "\n",
      "Epoch 00039: val_loss did not improve\n",
      "Epoch 40/1000\n",
      "5641/5641 [==============================] - 2065s 366ms/step - loss: 0.4614 - acc: 0.9113 - val_loss: 0.2192 - val_acc: 0.9276\n",
      "\n",
      "Epoch 00040: val_loss did not improve\n",
      "Epoch 41/1000\n",
      "5641/5641 [==============================] - 2071s 367ms/step - loss: 0.4571 - acc: 0.9120 - val_loss: 0.1611 - val_acc: 0.9480\n",
      "\n",
      "Epoch 00041: val_loss improved from 0.16876 to 0.16110, saving model to small_model.h5\n",
      "Epoch 42/1000\n",
      "5641/5641 [==============================] - 2068s 367ms/step - loss: 0.4511 - acc: 0.9120 - val_loss: 0.2615 - val_acc: 0.9027\n",
      "\n",
      "Epoch 00042: val_loss did not improve\n",
      "Epoch 43/1000\n",
      "3000/5641 [==============>...............] - ETA: 15:29 - loss: 0.4492 - acc: 0.9122"
     ]
    },
    {
     "name": "stderr",
     "output_type": "stream",
     "text": [
      "IOPub message rate exceeded.\n",
      "The notebook server will temporarily stop sending output\n",
      "to the client in order to avoid crashing it.\n",
      "To change this limit, set the config variable\n",
      "`--NotebookApp.iopub_msg_rate_limit`.\n",
      "\n",
      "Current values:\n",
      "NotebookApp.iopub_msg_rate_limit=1000.0 (msgs/sec)\n",
      "NotebookApp.rate_limit_window=3.0 (secs)\n",
      "\n"
     ]
    },
    {
     "name": "stdout",
     "output_type": "stream",
     "text": [
      "5641/5641 [==============================] - 2078s 368ms/step - loss: 0.4339 - acc: 0.9137 - val_loss: 0.3855 - val_acc: 0.8317\n",
      "\n",
      "Epoch 00044: val_loss did not improve\n",
      "Epoch 45/1000\n",
      "5641/5641 [==============================] - 2077s 368ms/step - loss: 0.4371 - acc: 0.9126 - val_loss: 0.2021 - val_acc: 0.9217\n",
      "\n",
      "Epoch 00045: val_loss did not improve\n",
      "Epoch 46/1000\n",
      "4703/5641 [========================>.....] - ETA: 5:32 - loss: 0.4214 - acc: 0.9163"
     ]
    },
    {
     "name": "stderr",
     "output_type": "stream",
     "text": [
      "IOPub message rate exceeded.\n",
      "The notebook server will temporarily stop sending output\n",
      "to the client in order to avoid crashing it.\n",
      "To change this limit, set the config variable\n",
      "`--NotebookApp.iopub_msg_rate_limit`.\n",
      "\n",
      "Current values:\n",
      "NotebookApp.iopub_msg_rate_limit=1000.0 (msgs/sec)\n",
      "NotebookApp.rate_limit_window=3.0 (secs)\n",
      "\n"
     ]
    },
    {
     "name": "stdout",
     "output_type": "stream",
     "text": [
      "5641/5641 [==============================] - 2055s 364ms/step - loss: 0.4089 - acc: 0.9177 - val_loss: 0.1808 - val_acc: 0.9281\n",
      "\n",
      "Epoch 00049: val_loss did not improve\n",
      "Epoch 50/1000\n",
      "5641/5641 [==============================] - 2072s 367ms/step - loss: 0.4035 - acc: 0.9194 - val_loss: 0.1397 - val_acc: 0.9509\n",
      "\n",
      "Epoch 00050: val_loss improved from 0.16110 to 0.13965, saving model to small_model.h5\n",
      "Epoch 51/1000\n",
      " 131/5641 [..............................] - ETA: 29:57 - loss: 0.4451 - acc: 0.9229"
     ]
    },
    {
     "name": "stderr",
     "output_type": "stream",
     "text": [
      "IOPub message rate exceeded.\n",
      "The notebook server will temporarily stop sending output\n",
      "to the client in order to avoid crashing it.\n",
      "To change this limit, set the config variable\n",
      "`--NotebookApp.iopub_msg_rate_limit`.\n",
      "\n",
      "Current values:\n",
      "NotebookApp.iopub_msg_rate_limit=1000.0 (msgs/sec)\n",
      "NotebookApp.rate_limit_window=3.0 (secs)\n",
      "\n"
     ]
    },
    {
     "name": "stdout",
     "output_type": "stream",
     "text": [
      "5641/5641 [==============================] - 2065s 366ms/step - loss: 0.4012 - acc: 0.9193 - val_loss: 0.2289 - val_acc: 0.9126\n",
      "\n",
      "Epoch 00051: val_loss did not improve\n",
      "Epoch 52/1000\n",
      "1934/5641 [=========>....................] - ETA: 21:46 - loss: 0.3960 - acc: 0.9176"
     ]
    },
    {
     "name": "stderr",
     "output_type": "stream",
     "text": [
      "IOPub message rate exceeded.\n",
      "The notebook server will temporarily stop sending output\n",
      "to the client in order to avoid crashing it.\n",
      "To change this limit, set the config variable\n",
      "`--NotebookApp.iopub_msg_rate_limit`.\n",
      "\n",
      "Current values:\n",
      "NotebookApp.iopub_msg_rate_limit=1000.0 (msgs/sec)\n",
      "NotebookApp.rate_limit_window=3.0 (secs)\n",
      "\n"
     ]
    },
    {
     "name": "stdout",
     "output_type": "stream",
     "text": [
      "5641/5641 [==============================] - 2068s 367ms/step - loss: 0.3973 - acc: 0.9174 - val_loss: 0.1757 - val_acc: 0.9317\n",
      "\n",
      "Epoch 00052: val_loss did not improve\n",
      "Epoch 53/1000\n",
      "5284/5641 [===========================>..] - ETA: 2:05 - loss: 0.3917 - acc: 0.9199"
     ]
    },
    {
     "name": "stderr",
     "output_type": "stream",
     "text": [
      "IOPub message rate exceeded.\n",
      "The notebook server will temporarily stop sending output\n",
      "to the client in order to avoid crashing it.\n",
      "To change this limit, set the config variable\n",
      "`--NotebookApp.iopub_msg_rate_limit`.\n",
      "\n",
      "Current values:\n",
      "NotebookApp.iopub_msg_rate_limit=1000.0 (msgs/sec)\n",
      "NotebookApp.rate_limit_window=3.0 (secs)\n",
      "\n"
     ]
    },
    {
     "name": "stdout",
     "output_type": "stream",
     "text": [
      "5641/5641 [==============================] - 2072s 367ms/step - loss: 0.3849 - acc: 0.9206 - val_loss: 0.1720 - val_acc: 0.9318\n",
      "\n",
      "Epoch 00054: val_loss did not improve\n",
      "Epoch 55/1000\n",
      "1127/5641 [====>.........................] - ETA: 26:24 - loss: 0.3811 - acc: 0.9194"
     ]
    },
    {
     "name": "stderr",
     "output_type": "stream",
     "text": [
      "IOPub message rate exceeded.\n",
      "The notebook server will temporarily stop sending output\n",
      "to the client in order to avoid crashing it.\n",
      "To change this limit, set the config variable\n",
      "`--NotebookApp.iopub_msg_rate_limit`.\n",
      "\n",
      "Current values:\n",
      "NotebookApp.iopub_msg_rate_limit=1000.0 (msgs/sec)\n",
      "NotebookApp.rate_limit_window=3.0 (secs)\n",
      "\n"
     ]
    },
    {
     "name": "stdout",
     "output_type": "stream",
     "text": [
      "5641/5641 [==============================] - 2064s 366ms/step - loss: 0.3789 - acc: 0.9199 - val_loss: 0.1844 - val_acc: 0.9233\n",
      "\n",
      "Epoch 00055: val_loss did not improve\n",
      "Epoch 56/1000\n",
      "2882/5641 [==============>...............] - ETA: 16:14 - loss: 0.3760 - acc: 0.9229"
     ]
    },
    {
     "name": "stderr",
     "output_type": "stream",
     "text": [
      "IOPub message rate exceeded.\n",
      "The notebook server will temporarily stop sending output\n",
      "to the client in order to avoid crashing it.\n",
      "To change this limit, set the config variable\n",
      "`--NotebookApp.iopub_msg_rate_limit`.\n",
      "\n",
      "Current values:\n",
      "NotebookApp.iopub_msg_rate_limit=1000.0 (msgs/sec)\n",
      "NotebookApp.rate_limit_window=3.0 (secs)\n",
      "\n"
     ]
    },
    {
     "name": "stdout",
     "output_type": "stream",
     "text": [
      "5641/5641 [==============================] - 2069s 367ms/step - loss: 0.3772 - acc: 0.9212 - val_loss: 0.2486 - val_acc: 0.8830\n",
      "\n",
      "Epoch 00057: val_loss did not improve\n",
      "Epoch 58/1000\n",
      "5641/5641 [==============================] - 2069s 367ms/step - loss: 0.3700 - acc: 0.9216 - val_loss: 0.2095 - val_acc: 0.9112\n",
      "\n",
      "Epoch 00058: val_loss did not improve\n",
      "Epoch 59/1000\n",
      " 899/5641 [===>..........................] - ETA: 27:35 - loss: 0.3750 - acc: 0.9198"
     ]
    },
    {
     "name": "stderr",
     "output_type": "stream",
     "text": [
      "IOPub message rate exceeded.\n",
      "The notebook server will temporarily stop sending output\n",
      "to the client in order to avoid crashing it.\n",
      "To change this limit, set the config variable\n",
      "`--NotebookApp.iopub_msg_rate_limit`.\n",
      "\n",
      "Current values:\n",
      "NotebookApp.iopub_msg_rate_limit=1000.0 (msgs/sec)\n",
      "NotebookApp.rate_limit_window=3.0 (secs)\n",
      "\n"
     ]
    },
    {
     "name": "stdout",
     "output_type": "stream",
     "text": [
      "5641/5641 [==============================] - 2062s 366ms/step - loss: 0.3806 - acc: 0.9198 - val_loss: 0.1655 - val_acc: 0.9293\n",
      "\n",
      "Epoch 00059: val_loss did not improve\n",
      "Epoch 60/1000\n",
      "2526/5641 [============>.................] - ETA: 18:18 - loss: 0.3675 - acc: 0.9203"
     ]
    },
    {
     "name": "stderr",
     "output_type": "stream",
     "text": [
      "IOPub message rate exceeded.\n",
      "The notebook server will temporarily stop sending output\n",
      "to the client in order to avoid crashing it.\n",
      "To change this limit, set the config variable\n",
      "`--NotebookApp.iopub_msg_rate_limit`.\n",
      "\n",
      "Current values:\n",
      "NotebookApp.iopub_msg_rate_limit=1000.0 (msgs/sec)\n",
      "NotebookApp.rate_limit_window=3.0 (secs)\n",
      "\n"
     ]
    },
    {
     "name": "stdout",
     "output_type": "stream",
     "text": [
      "3890/5641 [===================>..........] - ETA: 10:13 - loss: 0.3652 - acc: 0.9232"
     ]
    },
    {
     "name": "stderr",
     "output_type": "stream",
     "text": [
      "IOPub message rate exceeded.\n",
      "The notebook server will temporarily stop sending output\n",
      "to the client in order to avoid crashing it.\n",
      "To change this limit, set the config variable\n",
      "`--NotebookApp.iopub_msg_rate_limit`.\n",
      "\n",
      "Current values:\n",
      "NotebookApp.iopub_msg_rate_limit=1000.0 (msgs/sec)\n",
      "NotebookApp.rate_limit_window=3.0 (secs)\n",
      "\n"
     ]
    },
    {
     "name": "stdout",
     "output_type": "stream",
     "text": [
      "5464/5641 [============================>.] - ETA: 1:02 - loss: 0.3583 - acc: 0.9246"
     ]
    },
    {
     "name": "stderr",
     "output_type": "stream",
     "text": [
      "IOPub message rate exceeded.\n",
      "The notebook server will temporarily stop sending output\n",
      "to the client in order to avoid crashing it.\n",
      "To change this limit, set the config variable\n",
      "`--NotebookApp.iopub_msg_rate_limit`.\n",
      "\n",
      "Current values:\n",
      "NotebookApp.iopub_msg_rate_limit=1000.0 (msgs/sec)\n",
      "NotebookApp.rate_limit_window=3.0 (secs)\n",
      "\n"
     ]
    },
    {
     "name": "stdout",
     "output_type": "stream",
     "text": [
      "5641/5641 [==============================] - 2068s 367ms/step - loss: 0.3566 - acc: 0.9236 - val_loss: 0.1743 - val_acc: 0.9256\n",
      "\n",
      "Epoch 00063: val_loss did not improve\n",
      "Epoch 64/1000\n",
      "1507/5641 [=======>......................] - ETA: 24:14 - loss: 0.3579 - acc: 0.9217"
     ]
    },
    {
     "name": "stderr",
     "output_type": "stream",
     "text": [
      "IOPub message rate exceeded.\n",
      "The notebook server will temporarily stop sending output\n",
      "to the client in order to avoid crashing it.\n",
      "To change this limit, set the config variable\n",
      "`--NotebookApp.iopub_msg_rate_limit`.\n",
      "\n",
      "Current values:\n",
      "NotebookApp.iopub_msg_rate_limit=1000.0 (msgs/sec)\n",
      "NotebookApp.rate_limit_window=3.0 (secs)\n",
      "\n"
     ]
    },
    {
     "name": "stdout",
     "output_type": "stream",
     "text": [
      "3268/5641 [================>.............] - ETA: 13:56 - loss: 0.3526 - acc: 0.9253"
     ]
    },
    {
     "name": "stderr",
     "output_type": "stream",
     "text": [
      "IOPub message rate exceeded.\n",
      "The notebook server will temporarily stop sending output\n",
      "to the client in order to avoid crashing it.\n",
      "To change this limit, set the config variable\n",
      "`--NotebookApp.iopub_msg_rate_limit`.\n",
      "\n",
      "Current values:\n",
      "NotebookApp.iopub_msg_rate_limit=1000.0 (msgs/sec)\n",
      "NotebookApp.rate_limit_window=3.0 (secs)\n",
      "\n"
     ]
    },
    {
     "name": "stdout",
     "output_type": "stream",
     "text": [
      "4847/5641 [========================>.....] - ETA: 4:40 - loss: 0.3495 - acc: 0.9246"
     ]
    },
    {
     "name": "stderr",
     "output_type": "stream",
     "text": [
      "IOPub message rate exceeded.\n",
      "The notebook server will temporarily stop sending output\n",
      "to the client in order to avoid crashing it.\n",
      "To change this limit, set the config variable\n",
      "`--NotebookApp.iopub_msg_rate_limit`.\n",
      "\n",
      "Current values:\n",
      "NotebookApp.iopub_msg_rate_limit=1000.0 (msgs/sec)\n",
      "NotebookApp.rate_limit_window=3.0 (secs)\n",
      "\n"
     ]
    },
    {
     "name": "stdout",
     "output_type": "stream",
     "text": [
      "5641/5641 [==============================] - 2067s 366ms/step - loss: 0.3416 - acc: 0.9264 - val_loss: 0.1983 - val_acc: 0.9112\n",
      "\n",
      "Epoch 00067: val_loss did not improve\n",
      "Epoch 68/1000\n",
      "1025/5641 [====>.........................] - ETA: 26:42 - loss: 0.3327 - acc: 0.9266"
     ]
    },
    {
     "name": "stderr",
     "output_type": "stream",
     "text": [
      "IOPub message rate exceeded.\n",
      "The notebook server will temporarily stop sending output\n",
      "to the client in order to avoid crashing it.\n",
      "To change this limit, set the config variable\n",
      "`--NotebookApp.iopub_msg_rate_limit`.\n",
      "\n",
      "Current values:\n",
      "NotebookApp.iopub_msg_rate_limit=1000.0 (msgs/sec)\n",
      "NotebookApp.rate_limit_window=3.0 (secs)\n",
      "\n"
     ]
    },
    {
     "name": "stdout",
     "output_type": "stream",
     "text": [
      "5641/5641 [==============================] - 2054s 364ms/step - loss: 0.3403 - acc: 0.9267 - val_loss: 0.1692 - val_acc: 0.9287\n",
      "\n",
      "Epoch 00068: val_loss did not improve\n",
      "Epoch 69/1000\n",
      "2853/5641 [==============>...............] - ETA: 16:25 - loss: 0.3390 - acc: 0.9268"
     ]
    },
    {
     "name": "stderr",
     "output_type": "stream",
     "text": [
      "IOPub message rate exceeded.\n",
      "The notebook server will temporarily stop sending output\n",
      "to the client in order to avoid crashing it.\n",
      "To change this limit, set the config variable\n",
      "`--NotebookApp.iopub_msg_rate_limit`.\n",
      "\n",
      "Current values:\n",
      "NotebookApp.iopub_msg_rate_limit=1000.0 (msgs/sec)\n",
      "NotebookApp.rate_limit_window=3.0 (secs)\n",
      "\n"
     ]
    },
    {
     "name": "stdout",
     "output_type": "stream",
     "text": [
      "4656/5641 [=======================>......] - ETA: 5:47 - loss: 0.3281 - acc: 0.9292"
     ]
    },
    {
     "name": "stderr",
     "output_type": "stream",
     "text": [
      "IOPub message rate exceeded.\n",
      "The notebook server will temporarily stop sending output\n",
      "to the client in order to avoid crashing it.\n",
      "To change this limit, set the config variable\n",
      "`--NotebookApp.iopub_msg_rate_limit`.\n",
      "\n",
      "Current values:\n",
      "NotebookApp.iopub_msg_rate_limit=1000.0 (msgs/sec)\n",
      "NotebookApp.rate_limit_window=3.0 (secs)\n",
      "\n"
     ]
    },
    {
     "name": "stdout",
     "output_type": "stream",
     "text": [
      "5641/5641 [==============================] - 2071s 367ms/step - loss: 0.3326 - acc: 0.9273 - val_loss: 0.1627 - val_acc: 0.9340\n",
      "\n",
      "Epoch 00071: val_loss did not improve\n",
      "Epoch 72/1000\n",
      " 579/5641 [==>...........................] - ETA: 29:04 - loss: 0.3245 - acc: 0.9305"
     ]
    },
    {
     "name": "stderr",
     "output_type": "stream",
     "text": [
      "IOPub message rate exceeded.\n",
      "The notebook server will temporarily stop sending output\n",
      "to the client in order to avoid crashing it.\n",
      "To change this limit, set the config variable\n",
      "`--NotebookApp.iopub_msg_rate_limit`.\n",
      "\n",
      "Current values:\n",
      "NotebookApp.iopub_msg_rate_limit=1000.0 (msgs/sec)\n",
      "NotebookApp.rate_limit_window=3.0 (secs)\n",
      "\n"
     ]
    },
    {
     "name": "stdout",
     "output_type": "stream",
     "text": [
      "5641/5641 [==============================] - 2054s 364ms/step - loss: 0.3253 - acc: 0.9299 - val_loss: 0.1673 - val_acc: 0.9302\n",
      "\n",
      "Epoch 00072: val_loss did not improve\n",
      "Epoch 73/1000\n",
      "2085/5641 [==========>...................] - ETA: 20:54 - loss: 0.3170 - acc: 0.9304"
     ]
    },
    {
     "name": "stderr",
     "output_type": "stream",
     "text": [
      "IOPub message rate exceeded.\n",
      "The notebook server will temporarily stop sending output\n",
      "to the client in order to avoid crashing it.\n",
      "To change this limit, set the config variable\n",
      "`--NotebookApp.iopub_msg_rate_limit`.\n",
      "\n",
      "Current values:\n",
      "NotebookApp.iopub_msg_rate_limit=1000.0 (msgs/sec)\n",
      "NotebookApp.rate_limit_window=3.0 (secs)\n",
      "\n"
     ]
    },
    {
     "name": "stdout",
     "output_type": "stream",
     "text": [
      "5641/5641 [==============================] - 2069s 367ms/step - loss: 0.3231 - acc: 0.9297 - val_loss: 0.2264 - val_acc: 0.8918\n",
      "\n",
      "Epoch 00073: val_loss did not improve\n",
      "Epoch 74/1000\n",
      "2035/5641 [=========>....................] - ETA: 21:10 - loss: 0.3205 - acc: 0.9282"
     ]
    },
    {
     "name": "stderr",
     "output_type": "stream",
     "text": [
      "IOPub message rate exceeded.\n",
      "The notebook server will temporarily stop sending output\n",
      "to the client in order to avoid crashing it.\n",
      "To change this limit, set the config variable\n",
      "`--NotebookApp.iopub_msg_rate_limit`.\n",
      "\n",
      "Current values:\n",
      "NotebookApp.iopub_msg_rate_limit=1000.0 (msgs/sec)\n",
      "NotebookApp.rate_limit_window=3.0 (secs)\n",
      "\n"
     ]
    },
    {
     "name": "stdout",
     "output_type": "stream",
     "text": [
      "4589/5641 [=======================>......] - ETA: 6:12 - loss: 0.3207 - acc: 0.9313"
     ]
    },
    {
     "name": "stderr",
     "output_type": "stream",
     "text": [
      "IOPub message rate exceeded.\n",
      "The notebook server will temporarily stop sending output\n",
      "to the client in order to avoid crashing it.\n",
      "To change this limit, set the config variable\n",
      "`--NotebookApp.iopub_msg_rate_limit`.\n",
      "\n",
      "Current values:\n",
      "NotebookApp.iopub_msg_rate_limit=1000.0 (msgs/sec)\n",
      "NotebookApp.rate_limit_window=3.0 (secs)\n",
      "\n"
     ]
    },
    {
     "name": "stdout",
     "output_type": "stream",
     "text": [
      "5641/5641 [==============================] - 2069s 367ms/step - loss: 0.3146 - acc: 0.9323 - val_loss: 0.1562 - val_acc: 0.9308\n",
      "\n",
      "Epoch 00076: val_loss did not improve\n",
      "Epoch 77/1000\n",
      " 677/5641 [==>...........................] - ETA: 28:54 - loss: 0.3130 - acc: 0.9321"
     ]
    },
    {
     "name": "stderr",
     "output_type": "stream",
     "text": [
      "IOPub message rate exceeded.\n",
      "The notebook server will temporarily stop sending output\n",
      "to the client in order to avoid crashing it.\n",
      "To change this limit, set the config variable\n",
      "`--NotebookApp.iopub_msg_rate_limit`.\n",
      "\n",
      "Current values:\n",
      "NotebookApp.iopub_msg_rate_limit=1000.0 (msgs/sec)\n",
      "NotebookApp.rate_limit_window=3.0 (secs)\n",
      "\n"
     ]
    },
    {
     "name": "stdout",
     "output_type": "stream",
     "text": [
      "5641/5641 [==============================] - 2071s 367ms/step - loss: 0.3176 - acc: 0.9325 - val_loss: 0.1645 - val_acc: 0.9235\n",
      "\n",
      "Epoch 00077: val_loss did not improve\n",
      "Epoch 78/1000\n",
      "5641/5641 [==============================] - 2065s 366ms/step - loss: 0.3129 - acc: 0.9319 - val_loss: 0.1380 - val_acc: 0.9402\n",
      "\n",
      "Epoch 00078: val_loss did not improve\n",
      "Epoch 79/1000\n",
      "5641/5641 [==============================] - 2067s 366ms/step - loss: 0.3177 - acc: 0.9311 - val_loss: 0.1176 - val_acc: 0.9522\n",
      "\n",
      "Epoch 00079: val_loss improved from 0.12197 to 0.11762, saving model to small_model.h5\n",
      "Epoch 80/1000\n",
      "5641/5641 [==============================] - 2072s 367ms/step - loss: 0.3111 - acc: 0.9318 - val_loss: 0.1213 - val_acc: 0.9499\n",
      "\n",
      "Epoch 00080: val_loss did not improve\n",
      "Epoch 81/1000\n",
      "5641/5641 [==============================] - 2067s 366ms/step - loss: 0.3097 - acc: 0.9339 - val_loss: 0.1221 - val_acc: 0.9499\n",
      "\n",
      "Epoch 00081: val_loss did not improve\n",
      "Epoch 82/1000\n",
      "5641/5641 [==============================] - 2067s 366ms/step - loss: 0.3076 - acc: 0.9328 - val_loss: 0.1302 - val_acc: 0.9482\n",
      "\n",
      "Epoch 00082: val_loss did not improve\n",
      "Epoch 83/1000\n",
      "5641/5641 [==============================] - 2073s 367ms/step - loss: 0.3022 - acc: 0.9345 - val_loss: 0.0983 - val_acc: 0.9611\n",
      "\n",
      "Epoch 00083: val_loss improved from 0.11762 to 0.09830, saving model to small_model.h5\n",
      "Epoch 84/1000\n",
      "5641/5641 [==============================] - 2068s 367ms/step - loss: 0.3043 - acc: 0.9335 - val_loss: 0.1303 - val_acc: 0.9473\n",
      "\n",
      "Epoch 00084: val_loss did not improve\n",
      "Epoch 85/1000\n",
      "5641/5641 [==============================] - 2068s 367ms/step - loss: 0.2965 - acc: 0.9355 - val_loss: 0.1017 - val_acc: 0.9598\n",
      "\n",
      "Epoch 00085: val_loss did not improve\n",
      "Epoch 86/1000\n",
      "5641/5641 [==============================] - 2077s 368ms/step - loss: 0.2929 - acc: 0.9369 - val_loss: 0.1786 - val_acc: 0.9210\n",
      "\n",
      "Epoch 00086: val_loss did not improve\n",
      "Epoch 87/1000\n",
      "5641/5641 [==============================] - 2086s 370ms/step - loss: 0.2945 - acc: 0.9365 - val_loss: 0.1685 - val_acc: 0.9236\n",
      "\n",
      "Epoch 00087: val_loss did not improve\n",
      "Epoch 88/1000\n",
      "5641/5641 [==============================] - 2085s 370ms/step - loss: 0.2928 - acc: 0.9354 - val_loss: 0.1017 - val_acc: 0.9576\n",
      "\n",
      "Epoch 00088: val_loss did not improve\n",
      "Epoch 89/1000\n",
      "5641/5641 [==============================] - 2080s 369ms/step - loss: 0.2905 - acc: 0.9349 - val_loss: 0.1277 - val_acc: 0.9469\n",
      "\n",
      "Epoch 00089: val_loss did not improve\n",
      "Epoch 90/1000\n",
      "5641/5641 [==============================] - 2070s 367ms/step - loss: 0.2889 - acc: 0.9354 - val_loss: 0.1205 - val_acc: 0.9482\n",
      "\n",
      "Epoch 00090: val_loss did not improve\n",
      "Epoch 91/1000\n",
      "5641/5641 [==============================] - 2075s 368ms/step - loss: 0.2902 - acc: 0.9351 - val_loss: 0.1251 - val_acc: 0.9464\n",
      "\n",
      "Epoch 00091: val_loss did not improve\n",
      "Epoch 92/1000\n",
      "5641/5641 [==============================] - 2068s 367ms/step - loss: 0.2835 - acc: 0.9375 - val_loss: 0.1181 - val_acc: 0.9486\n",
      "\n",
      "Epoch 00092: val_loss did not improve\n",
      "Epoch 93/1000\n",
      "5641/5641 [==============================] - 2070s 367ms/step - loss: 0.2818 - acc: 0.9372 - val_loss: 0.0971 - val_acc: 0.9587\n",
      "\n",
      "Epoch 00093: val_loss improved from 0.09830 to 0.09710, saving model to small_model.h5\n",
      "Epoch 94/1000\n",
      "5641/5641 [==============================] - 2066s 366ms/step - loss: 0.2844 - acc: 0.9370 - val_loss: 0.1721 - val_acc: 0.9242\n",
      "\n",
      "Epoch 00094: val_loss did not improve\n",
      "Epoch 95/1000\n",
      "5641/5641 [==============================] - 2072s 367ms/step - loss: 0.2772 - acc: 0.9398 - val_loss: 0.1858 - val_acc: 0.9163\n",
      "\n",
      "Epoch 00095: val_loss did not improve\n",
      "Epoch 96/1000\n",
      "1707/5641 [========>.....................] - ETA: 23:01 - loss: 0.2754 - acc: 0.9395"
     ]
    },
    {
     "name": "stderr",
     "output_type": "stream",
     "text": [
      "IOPub message rate exceeded.\n",
      "The notebook server will temporarily stop sending output\n",
      "to the client in order to avoid crashing it.\n",
      "To change this limit, set the config variable\n",
      "`--NotebookApp.iopub_msg_rate_limit`.\n",
      "\n",
      "Current values:\n",
      "NotebookApp.iopub_msg_rate_limit=1000.0 (msgs/sec)\n",
      "NotebookApp.rate_limit_window=3.0 (secs)\n",
      "\n"
     ]
    },
    {
     "name": "stdout",
     "output_type": "stream",
     "text": [
      "3565/5641 [=================>............] - ETA: 12:13 - loss: 0.2900 - acc: 0.9379"
     ]
    },
    {
     "name": "stderr",
     "output_type": "stream",
     "text": [
      "IOPub message rate exceeded.\n",
      "The notebook server will temporarily stop sending output\n",
      "to the client in order to avoid crashing it.\n",
      "To change this limit, set the config variable\n",
      "`--NotebookApp.iopub_msg_rate_limit`.\n",
      "\n",
      "Current values:\n",
      "NotebookApp.iopub_msg_rate_limit=1000.0 (msgs/sec)\n",
      "NotebookApp.rate_limit_window=3.0 (secs)\n",
      "\n"
     ]
    },
    {
     "name": "stdout",
     "output_type": "stream",
     "text": [
      "5322/5641 [===========================>..] - ETA: 1:52 - loss: 0.2836 - acc: 0.9377"
     ]
    },
    {
     "name": "stderr",
     "output_type": "stream",
     "text": [
      "IOPub message rate exceeded.\n",
      "The notebook server will temporarily stop sending output\n",
      "to the client in order to avoid crashing it.\n",
      "To change this limit, set the config variable\n",
      "`--NotebookApp.iopub_msg_rate_limit`.\n",
      "\n",
      "Current values:\n",
      "NotebookApp.iopub_msg_rate_limit=1000.0 (msgs/sec)\n",
      "NotebookApp.rate_limit_window=3.0 (secs)\n",
      "\n"
     ]
    },
    {
     "name": "stdout",
     "output_type": "stream",
     "text": [
      "5641/5641 [==============================] - 2051s 364ms/step - loss: 0.2783 - acc: 0.9395 - val_loss: 0.1163 - val_acc: 0.9516\n",
      "\n",
      "Epoch 00099: val_loss did not improve\n",
      "Epoch 100/1000\n",
      "5641/5641 [==============================] - 2060s 365ms/step - loss: 0.2764 - acc: 0.9389 - val_loss: 0.1218 - val_acc: 0.9466\n",
      "\n",
      "Epoch 00100: val_loss did not improve\n",
      "Epoch 101/1000\n",
      "5641/5641 [==============================] - 2070s 367ms/step - loss: 0.2750 - acc: 0.9389 - val_loss: 0.1308 - val_acc: 0.9408\n",
      "\n",
      "Epoch 00101: val_loss did not improve\n",
      "Epoch 102/1000\n",
      "3835/5641 [===================>..........] - ETA: 10:37 - loss: 0.2722 - acc: 0.9392"
     ]
    },
    {
     "name": "stderr",
     "output_type": "stream",
     "text": [
      "IOPub message rate exceeded.\n",
      "The notebook server will temporarily stop sending output\n",
      "to the client in order to avoid crashing it.\n",
      "To change this limit, set the config variable\n",
      "`--NotebookApp.iopub_msg_rate_limit`.\n",
      "\n",
      "Current values:\n",
      "NotebookApp.iopub_msg_rate_limit=1000.0 (msgs/sec)\n",
      "NotebookApp.rate_limit_window=3.0 (secs)\n",
      "\n"
     ]
    },
    {
     "name": "stdout",
     "output_type": "stream",
     "text": [
      "5452/5641 [===========================>..] - ETA: 1:06 - loss: 0.2636 - acc: 0.9419"
     ]
    },
    {
     "name": "stderr",
     "output_type": "stream",
     "text": [
      "IOPub message rate exceeded.\n",
      "The notebook server will temporarily stop sending output\n",
      "to the client in order to avoid crashing it.\n",
      "To change this limit, set the config variable\n",
      "`--NotebookApp.iopub_msg_rate_limit`.\n",
      "\n",
      "Current values:\n",
      "NotebookApp.iopub_msg_rate_limit=1000.0 (msgs/sec)\n",
      "NotebookApp.rate_limit_window=3.0 (secs)\n",
      "\n"
     ]
    },
    {
     "name": "stdout",
     "output_type": "stream",
     "text": [
      "5641/5641 [==============================] - 2070s 367ms/step - loss: 0.2710 - acc: 0.9397 - val_loss: 0.1059 - val_acc: 0.9548\n",
      "\n",
      "Epoch 00104: val_loss did not improve\n",
      "Epoch 105/1000\n",
      "1419/5641 [======>.......................] - ETA: 24:45 - loss: 0.2729 - acc: 0.9392"
     ]
    },
    {
     "name": "stderr",
     "output_type": "stream",
     "text": [
      "IOPub message rate exceeded.\n",
      "The notebook server will temporarily stop sending output\n",
      "to the client in order to avoid crashing it.\n",
      "To change this limit, set the config variable\n",
      "`--NotebookApp.iopub_msg_rate_limit`.\n",
      "\n",
      "Current values:\n",
      "NotebookApp.iopub_msg_rate_limit=1000.0 (msgs/sec)\n",
      "NotebookApp.rate_limit_window=3.0 (secs)\n",
      "\n"
     ]
    },
    {
     "name": "stdout",
     "output_type": "stream",
     "text": [
      "3086/5641 [===============>..............] - ETA: 15:01 - loss: 0.2635 - acc: 0.9408"
     ]
    },
    {
     "name": "stderr",
     "output_type": "stream",
     "text": [
      "IOPub message rate exceeded.\n",
      "The notebook server will temporarily stop sending output\n",
      "to the client in order to avoid crashing it.\n",
      "To change this limit, set the config variable\n",
      "`--NotebookApp.iopub_msg_rate_limit`.\n",
      "\n",
      "Current values:\n",
      "NotebookApp.iopub_msg_rate_limit=1000.0 (msgs/sec)\n",
      "NotebookApp.rate_limit_window=3.0 (secs)\n",
      "\n"
     ]
    },
    {
     "name": "stdout",
     "output_type": "stream",
     "text": [
      "5008/5641 [=========================>....] - ETA: 3:42 - loss: 0.2608 - acc: 0.9425"
     ]
    },
    {
     "name": "stderr",
     "output_type": "stream",
     "text": [
      "IOPub message rate exceeded.\n",
      "The notebook server will temporarily stop sending output\n",
      "to the client in order to avoid crashing it.\n",
      "To change this limit, set the config variable\n",
      "`--NotebookApp.iopub_msg_rate_limit`.\n",
      "\n",
      "Current values:\n",
      "NotebookApp.iopub_msg_rate_limit=1000.0 (msgs/sec)\n",
      "NotebookApp.rate_limit_window=3.0 (secs)\n",
      "\n"
     ]
    },
    {
     "name": "stdout",
     "output_type": "stream",
     "text": [
      "5641/5641 [==============================] - 2065s 366ms/step - loss: 0.2768 - acc: 0.9381 - val_loss: 0.1103 - val_acc: 0.9525\n",
      "\n",
      "Epoch 00108: val_loss did not improve\n",
      "Epoch 109/1000\n",
      " 930/5641 [===>..........................] - ETA: 27:24 - loss: 0.2697 - acc: 0.9406"
     ]
    },
    {
     "name": "stderr",
     "output_type": "stream",
     "text": [
      "IOPub message rate exceeded.\n",
      "The notebook server will temporarily stop sending output\n",
      "to the client in order to avoid crashing it.\n",
      "To change this limit, set the config variable\n",
      "`--NotebookApp.iopub_msg_rate_limit`.\n",
      "\n",
      "Current values:\n",
      "NotebookApp.iopub_msg_rate_limit=1000.0 (msgs/sec)\n",
      "NotebookApp.rate_limit_window=3.0 (secs)\n",
      "\n"
     ]
    },
    {
     "name": "stdout",
     "output_type": "stream",
     "text": [
      "5641/5641 [==============================] - 2064s 366ms/step - loss: 0.2668 - acc: 0.9412 - val_loss: 0.1134 - val_acc: 0.9532\n",
      "\n",
      "Epoch 00109: val_loss did not improve\n",
      "Epoch 110/1000\n",
      "2574/5641 [============>.................] - ETA: 17:59 - loss: 0.2635 - acc: 0.9423"
     ]
    },
    {
     "name": "stderr",
     "output_type": "stream",
     "text": [
      "IOPub message rate exceeded.\n",
      "The notebook server will temporarily stop sending output\n",
      "to the client in order to avoid crashing it.\n",
      "To change this limit, set the config variable\n",
      "`--NotebookApp.iopub_msg_rate_limit`.\n",
      "\n",
      "Current values:\n",
      "NotebookApp.iopub_msg_rate_limit=1000.0 (msgs/sec)\n",
      "NotebookApp.rate_limit_window=3.0 (secs)\n",
      "\n"
     ]
    },
    {
     "name": "stdout",
     "output_type": "stream",
     "text": [
      "5641/5641 [==============================] - 2068s 367ms/step - loss: 0.2579 - acc: 0.9432 - val_loss: 0.1165 - val_acc: 0.9482\n",
      "\n",
      "Epoch 00111: val_loss did not improve\n",
      "Epoch 112/1000\n",
      "5641/5641 [==============================] - 2051s 364ms/step - loss: 0.2559 - acc: 0.9447 - val_loss: 0.1050 - val_acc: 0.9548\n",
      "\n",
      "Epoch 00112: val_loss did not improve\n",
      "Epoch 113/1000\n",
      "5641/5641 [==============================] - 2066s 366ms/step - loss: 0.2516 - acc: 0.9435 - val_loss: 0.1042 - val_acc: 0.9555\n",
      "\n",
      "Epoch 00113: val_loss did not improve\n",
      "Epoch 114/1000\n",
      "5641/5641 [==============================] - 2063s 366ms/step - loss: 0.2518 - acc: 0.9435 - val_loss: 0.0983 - val_acc: 0.9586\n",
      "\n",
      "Epoch 00114: val_loss did not improve\n",
      "Epoch 115/1000\n",
      "5641/5641 [==============================] - 2069s 367ms/step - loss: 0.2608 - acc: 0.9425 - val_loss: 0.0893 - val_acc: 0.9599\n",
      "\n",
      "Epoch 00116: val_loss did not improve\n",
      "Epoch 117/1000\n",
      "3000/5641 [==============>...............] - ETA: 15:33 - loss: 0.2564 - acc: 0.9439"
     ]
    },
    {
     "name": "stderr",
     "output_type": "stream",
     "text": [
      "IOPub message rate exceeded.\n",
      "The notebook server will temporarily stop sending output\n",
      "to the client in order to avoid crashing it.\n",
      "To change this limit, set the config variable\n",
      "`--NotebookApp.iopub_msg_rate_limit`.\n",
      "\n",
      "Current values:\n",
      "NotebookApp.iopub_msg_rate_limit=1000.0 (msgs/sec)\n",
      "NotebookApp.rate_limit_window=3.0 (secs)\n",
      "\n"
     ]
    },
    {
     "name": "stdout",
     "output_type": "stream",
     "text": [
      "4745/5641 [========================>.....] - ETA: 5:16 - loss: 0.2509 - acc: 0.9437"
     ]
    },
    {
     "name": "stderr",
     "output_type": "stream",
     "text": [
      "IOPub message rate exceeded.\n",
      "The notebook server will temporarily stop sending output\n",
      "to the client in order to avoid crashing it.\n",
      "To change this limit, set the config variable\n",
      "`--NotebookApp.iopub_msg_rate_limit`.\n",
      "\n",
      "Current values:\n",
      "NotebookApp.iopub_msg_rate_limit=1000.0 (msgs/sec)\n",
      "NotebookApp.rate_limit_window=3.0 (secs)\n",
      "\n"
     ]
    },
    {
     "name": "stdout",
     "output_type": "stream",
     "text": [
      "5641/5641 [==============================] - 2065s 366ms/step - loss: 0.2447 - acc: 0.9462 - val_loss: 0.1316 - val_acc: 0.9424\n",
      "\n",
      "Epoch 00119: val_loss did not improve\n",
      "Epoch 120/1000\n",
      " 755/5641 [===>..........................] - ETA: 28:22 - loss: 0.2294 - acc: 0.9498"
     ]
    },
    {
     "name": "stderr",
     "output_type": "stream",
     "text": [
      "IOPub message rate exceeded.\n",
      "The notebook server will temporarily stop sending output\n",
      "to the client in order to avoid crashing it.\n",
      "To change this limit, set the config variable\n",
      "`--NotebookApp.iopub_msg_rate_limit`.\n",
      "\n",
      "Current values:\n",
      "NotebookApp.iopub_msg_rate_limit=1000.0 (msgs/sec)\n",
      "NotebookApp.rate_limit_window=3.0 (secs)\n",
      "\n"
     ]
    },
    {
     "name": "stdout",
     "output_type": "stream",
     "text": [
      "5641/5641 [==============================] - 2064s 366ms/step - loss: 0.2486 - acc: 0.9450 - val_loss: 0.1194 - val_acc: 0.9482\n",
      "\n",
      "Epoch 00120: val_loss did not improve\n",
      "Epoch 121/1000\n",
      "5641/5641 [==============================] - 2068s 367ms/step - loss: 0.2464 - acc: 0.9449 - val_loss: 0.1204 - val_acc: 0.9492\n",
      "\n",
      "Epoch 00121: val_loss did not improve\n",
      "Epoch 122/1000\n",
      "5641/5641 [==============================] - 2069s 367ms/step - loss: 0.2472 - acc: 0.9455 - val_loss: 0.1287 - val_acc: 0.9448\n",
      "\n",
      "Epoch 00122: val_loss did not improve\n",
      "Epoch 123/1000\n",
      "5641/5641 [==============================] - 2063s 366ms/step - loss: 0.2462 - acc: 0.9454 - val_loss: 0.1297 - val_acc: 0.9441\n",
      "\n",
      "Epoch 00123: val_loss did not improve\n",
      "Epoch 124/1000\n",
      "5641/5641 [==============================] - 2067s 366ms/step - loss: 0.2507 - acc: 0.9447 - val_loss: 0.0886 - val_acc: 0.9649\n",
      "\n",
      "Epoch 00124: val_loss did not improve\n",
      "Epoch 125/1000\n",
      "5641/5641 [==============================] - 2071s 367ms/step - loss: 0.2404 - acc: 0.9470 - val_loss: 0.1421 - val_acc: 0.9402\n",
      "\n",
      "Epoch 00125: val_loss did not improve\n",
      "Epoch 126/1000\n",
      " 835/5641 [===>..........................] - ETA: 27:56 - loss: 0.2343 - acc: 0.9485"
     ]
    },
    {
     "name": "stderr",
     "output_type": "stream",
     "text": [
      "IOPub message rate exceeded.\n",
      "The notebook server will temporarily stop sending output\n",
      "to the client in order to avoid crashing it.\n",
      "To change this limit, set the config variable\n",
      "`--NotebookApp.iopub_msg_rate_limit`.\n",
      "\n",
      "Current values:\n",
      "NotebookApp.iopub_msg_rate_limit=1000.0 (msgs/sec)\n",
      "NotebookApp.rate_limit_window=3.0 (secs)\n",
      "\n"
     ]
    },
    {
     "name": "stdout",
     "output_type": "stream",
     "text": [
      "5641/5641 [==============================] - 2066s 366ms/step - loss: 0.2430 - acc: 0.9470 - val_loss: 0.1378 - val_acc: 0.9402\n",
      "\n",
      "Epoch 00126: val_loss did not improve\n",
      "Epoch 127/1000\n",
      "5641/5641 [==============================] - 2063s 366ms/step - loss: 0.2366 - acc: 0.9466 - val_loss: 0.1021 - val_acc: 0.9590\n",
      "\n",
      "Epoch 00127: val_loss did not improve\n",
      "Epoch 128/1000\n",
      "5641/5641 [==============================] - 2077s 368ms/step - loss: 0.2366 - acc: 0.9477 - val_loss: 0.1657 - val_acc: 0.9262\n",
      "\n",
      "Epoch 00128: val_loss did not improve\n",
      "Epoch 129/1000\n",
      "5641/5641 [==============================] - 2061s 365ms/step - loss: 0.2402 - acc: 0.9473 - val_loss: 0.1475 - val_acc: 0.9353\n",
      "\n",
      "Epoch 00129: val_loss did not improve\n",
      "Epoch 130/1000\n",
      "5641/5641 [==============================] - 2085s 370ms/step - loss: 0.2363 - acc: 0.9468 - val_loss: 0.0851 - val_acc: 0.9639\n",
      "\n",
      "Epoch 00130: val_loss improved from 0.08715 to 0.08506, saving model to small_model.h5\n",
      "Epoch 131/1000\n",
      "1673/5641 [=======>......................] - ETA: 23:24 - loss: 0.2323 - acc: 0.9483"
     ]
    },
    {
     "name": "stderr",
     "output_type": "stream",
     "text": [
      "IOPub message rate exceeded.\n",
      "The notebook server will temporarily stop sending output\n",
      "to the client in order to avoid crashing it.\n",
      "To change this limit, set the config variable\n",
      "`--NotebookApp.iopub_msg_rate_limit`.\n",
      "\n",
      "Current values:\n",
      "NotebookApp.iopub_msg_rate_limit=1000.0 (msgs/sec)\n",
      "NotebookApp.rate_limit_window=3.0 (secs)\n",
      "\n"
     ]
    },
    {
     "name": "stdout",
     "output_type": "stream",
     "text": [
      "3278/5641 [================>.............] - ETA: 13:54 - loss: 0.2366 - acc: 0.9483"
     ]
    },
    {
     "name": "stderr",
     "output_type": "stream",
     "text": [
      "IOPub message rate exceeded.\n",
      "The notebook server will temporarily stop sending output\n",
      "to the client in order to avoid crashing it.\n",
      "To change this limit, set the config variable\n",
      "`--NotebookApp.iopub_msg_rate_limit`.\n",
      "\n",
      "Current values:\n",
      "NotebookApp.iopub_msg_rate_limit=1000.0 (msgs/sec)\n",
      "NotebookApp.rate_limit_window=3.0 (secs)\n",
      "\n"
     ]
    },
    {
     "name": "stdout",
     "output_type": "stream",
     "text": [
      "5641/5641 [==============================] - 2067s 366ms/step - loss: 0.2374 - acc: 0.9475 - val_loss: 0.0721 - val_acc: 0.9700\n",
      "\n",
      "Epoch 00133: val_loss improved from 0.08187 to 0.07213, saving model to small_model.h5\n",
      "Epoch 134/1000\n",
      "4427/5641 [======================>.......] - ETA: 7:09 - loss: 0.2307 - acc: 0.9491"
     ]
    },
    {
     "name": "stderr",
     "output_type": "stream",
     "text": [
      "IOPub message rate exceeded.\n",
      "The notebook server will temporarily stop sending output\n",
      "to the client in order to avoid crashing it.\n",
      "To change this limit, set the config variable\n",
      "`--NotebookApp.iopub_msg_rate_limit`.\n",
      "\n",
      "Current values:\n",
      "NotebookApp.iopub_msg_rate_limit=1000.0 (msgs/sec)\n",
      "NotebookApp.rate_limit_window=3.0 (secs)\n",
      "\n"
     ]
    },
    {
     "name": "stdout",
     "output_type": "stream",
     "text": [
      "5641/5641 [==============================] - 2053s 364ms/step - loss: 0.2337 - acc: 0.9499 - val_loss: 0.1617 - val_acc: 0.9282\n",
      "\n",
      "Epoch 00135: val_loss did not improve\n",
      "Epoch 136/1000\n",
      " 691/5641 [==>...........................] - ETA: 28:45 - loss: 0.2310 - acc: 0.9498"
     ]
    },
    {
     "name": "stderr",
     "output_type": "stream",
     "text": [
      "IOPub message rate exceeded.\n",
      "The notebook server will temporarily stop sending output\n",
      "to the client in order to avoid crashing it.\n",
      "To change this limit, set the config variable\n",
      "`--NotebookApp.iopub_msg_rate_limit`.\n",
      "\n",
      "Current values:\n",
      "NotebookApp.iopub_msg_rate_limit=1000.0 (msgs/sec)\n",
      "NotebookApp.rate_limit_window=3.0 (secs)\n",
      "\n"
     ]
    },
    {
     "name": "stdout",
     "output_type": "stream",
     "text": [
      "5641/5641 [==============================] - 2070s 367ms/step - loss: 0.2311 - acc: 0.9492 - val_loss: 0.0798 - val_acc: 0.9662\n",
      "\n",
      "Epoch 00136: val_loss did not improve\n",
      "Epoch 137/1000\n",
      "5457/5641 [============================>.] - ETA: 1:05 - loss: 0.2281 - acc: 0.9492"
     ]
    },
    {
     "name": "stderr",
     "output_type": "stream",
     "text": [
      "IOPub message rate exceeded.\n",
      "The notebook server will temporarily stop sending output\n",
      "to the client in order to avoid crashing it.\n",
      "To change this limit, set the config variable\n",
      "`--NotebookApp.iopub_msg_rate_limit`.\n",
      "\n",
      "Current values:\n",
      "NotebookApp.iopub_msg_rate_limit=1000.0 (msgs/sec)\n",
      "NotebookApp.rate_limit_window=3.0 (secs)\n",
      "\n"
     ]
    },
    {
     "name": "stdout",
     "output_type": "stream",
     "text": [
      "5641/5641 [==============================] - 2069s 367ms/step - loss: 0.2311 - acc: 0.9483 - val_loss: 0.1199 - val_acc: 0.9473\n",
      "\n",
      "Epoch 00138: val_loss did not improve\n",
      "Epoch 139/1000\n",
      "1586/5641 [=======>......................] - ETA: 23:42 - loss: 0.2250 - acc: 0.9471"
     ]
    },
    {
     "name": "stderr",
     "output_type": "stream",
     "text": [
      "IOPub message rate exceeded.\n",
      "The notebook server will temporarily stop sending output\n",
      "to the client in order to avoid crashing it.\n",
      "To change this limit, set the config variable\n",
      "`--NotebookApp.iopub_msg_rate_limit`.\n",
      "\n",
      "Current values:\n",
      "NotebookApp.iopub_msg_rate_limit=1000.0 (msgs/sec)\n",
      "NotebookApp.rate_limit_window=3.0 (secs)\n",
      "\n"
     ]
    },
    {
     "name": "stdout",
     "output_type": "stream",
     "text": [
      "3200/5641 [================>.............] - ETA: 14:21 - loss: 0.2252 - acc: 0.9499"
     ]
    },
    {
     "name": "stderr",
     "output_type": "stream",
     "text": [
      "IOPub message rate exceeded.\n",
      "The notebook server will temporarily stop sending output\n",
      "to the client in order to avoid crashing it.\n",
      "To change this limit, set the config variable\n",
      "`--NotebookApp.iopub_msg_rate_limit`.\n",
      "\n",
      "Current values:\n",
      "NotebookApp.iopub_msg_rate_limit=1000.0 (msgs/sec)\n",
      "NotebookApp.rate_limit_window=3.0 (secs)\n",
      "\n"
     ]
    },
    {
     "name": "stdout",
     "output_type": "stream",
     "text": [
      "5641/5641 [==============================] - 2056s 364ms/step - loss: 0.2275 - acc: 0.9495 - val_loss: 0.1001 - val_acc: 0.9582\n",
      "\n",
      "Epoch 00141: val_loss did not improve\n",
      "Epoch 142/1000\n",
      "5641/5641 [==============================] - 2067s 366ms/step - loss: 0.2276 - acc: 0.9508 - val_loss: 0.0767 - val_acc: 0.9698\n",
      "\n",
      "Epoch 00142: val_loss did not improve\n",
      "Epoch 143/1000\n",
      "4235/5641 [=====================>........] - ETA: 8:15 - loss: 0.2289 - acc: 0.9499"
     ]
    },
    {
     "name": "stderr",
     "output_type": "stream",
     "text": [
      "IOPub message rate exceeded.\n",
      "The notebook server will temporarily stop sending output\n",
      "to the client in order to avoid crashing it.\n",
      "To change this limit, set the config variable\n",
      "`--NotebookApp.iopub_msg_rate_limit`.\n",
      "\n",
      "Current values:\n",
      "NotebookApp.iopub_msg_rate_limit=1000.0 (msgs/sec)\n",
      "NotebookApp.rate_limit_window=3.0 (secs)\n",
      "\n"
     ]
    },
    {
     "name": "stdout",
     "output_type": "stream",
     "text": [
      "5641/5641 [==============================] - 2068s 367ms/step - loss: 0.2267 - acc: 0.9503 - val_loss: 0.0814 - val_acc: 0.9673\n",
      "\n",
      "Epoch 00143: val_loss did not improve\n",
      "Epoch 144/1000\n",
      "5641/5641 [==============================] - 2069s 367ms/step - loss: 0.2312 - acc: 0.9489 - val_loss: 0.0845 - val_acc: 0.9646\n",
      "\n",
      "Epoch 00144: val_loss did not improve\n",
      "Epoch 145/1000\n",
      " 573/5641 [==>...........................] - ETA: 29:17 - loss: 0.2153 - acc: 0.9538"
     ]
    },
    {
     "name": "stderr",
     "output_type": "stream",
     "text": [
      "IOPub message rate exceeded.\n",
      "The notebook server will temporarily stop sending output\n",
      "to the client in order to avoid crashing it.\n",
      "To change this limit, set the config variable\n",
      "`--NotebookApp.iopub_msg_rate_limit`.\n",
      "\n",
      "Current values:\n",
      "NotebookApp.iopub_msg_rate_limit=1000.0 (msgs/sec)\n",
      "NotebookApp.rate_limit_window=3.0 (secs)\n",
      "\n"
     ]
    },
    {
     "name": "stdout",
     "output_type": "stream",
     "text": [
      "5641/5641 [==============================] - 2061s 365ms/step - loss: 0.2206 - acc: 0.9509 - val_loss: 0.0886 - val_acc: 0.9615\n",
      "\n",
      "Epoch 00145: val_loss did not improve\n",
      "Epoch 146/1000\n",
      "2303/5641 [===========>..................] - ETA: 19:33 - loss: 0.2260 - acc: 0.9500"
     ]
    },
    {
     "name": "stderr",
     "output_type": "stream",
     "text": [
      "IOPub message rate exceeded.\n",
      "The notebook server will temporarily stop sending output\n",
      "to the client in order to avoid crashing it.\n",
      "To change this limit, set the config variable\n",
      "`--NotebookApp.iopub_msg_rate_limit`.\n",
      "\n",
      "Current values:\n",
      "NotebookApp.iopub_msg_rate_limit=1000.0 (msgs/sec)\n",
      "NotebookApp.rate_limit_window=3.0 (secs)\n",
      "\n"
     ]
    },
    {
     "name": "stdout",
     "output_type": "stream",
     "text": [
      "4054/5641 [====================>.........] - ETA: 9:19 - loss: 0.2142 - acc: 0.9522"
     ]
    },
    {
     "name": "stderr",
     "output_type": "stream",
     "text": [
      "IOPub message rate exceeded.\n",
      "The notebook server will temporarily stop sending output\n",
      "to the client in order to avoid crashing it.\n",
      "To change this limit, set the config variable\n",
      "`--NotebookApp.iopub_msg_rate_limit`.\n",
      "\n",
      "Current values:\n",
      "NotebookApp.iopub_msg_rate_limit=1000.0 (msgs/sec)\n",
      "NotebookApp.rate_limit_window=3.0 (secs)\n",
      "\n"
     ]
    },
    {
     "name": "stdout",
     "output_type": "stream",
     "text": [
      "5641/5641 [==============================] - 2069s 367ms/step - loss: 0.2219 - acc: 0.9507 - val_loss: 0.0977 - val_acc: 0.9594\n",
      "\n",
      "Epoch 00148: val_loss did not improve\n",
      "Epoch 149/1000\n",
      " 154/5641 [..............................] - ETA: 30:14 - loss: 0.2218 - acc: 0.9497"
     ]
    },
    {
     "name": "stderr",
     "output_type": "stream",
     "text": [
      "IOPub message rate exceeded.\n",
      "The notebook server will temporarily stop sending output\n",
      "to the client in order to avoid crashing it.\n",
      "To change this limit, set the config variable\n",
      "`--NotebookApp.iopub_msg_rate_limit`.\n",
      "\n",
      "Current values:\n",
      "NotebookApp.iopub_msg_rate_limit=1000.0 (msgs/sec)\n",
      "NotebookApp.rate_limit_window=3.0 (secs)\n",
      "\n"
     ]
    },
    {
     "name": "stdout",
     "output_type": "stream",
     "text": [
      "5641/5641 [==============================] - 2065s 366ms/step - loss: 0.2234 - acc: 0.9507 - val_loss: 0.1010 - val_acc: 0.9579\n",
      "\n",
      "Epoch 00149: val_loss did not improve\n",
      "Epoch 150/1000\n",
      "1757/5641 [========>.....................] - ETA: 22:44 - loss: 0.2211 - acc: 0.9507"
     ]
    },
    {
     "name": "stderr",
     "output_type": "stream",
     "text": [
      "IOPub message rate exceeded.\n",
      "The notebook server will temporarily stop sending output\n",
      "to the client in order to avoid crashing it.\n",
      "To change this limit, set the config variable\n",
      "`--NotebookApp.iopub_msg_rate_limit`.\n",
      "\n",
      "Current values:\n",
      "NotebookApp.iopub_msg_rate_limit=1000.0 (msgs/sec)\n",
      "NotebookApp.rate_limit_window=3.0 (secs)\n",
      "\n"
     ]
    },
    {
     "name": "stdout",
     "output_type": "stream",
     "text": [
      "3537/5641 [=================>............] - ETA: 12:20 - loss: 0.2173 - acc: 0.9518"
     ]
    },
    {
     "name": "stderr",
     "output_type": "stream",
     "text": [
      "IOPub message rate exceeded.\n",
      "The notebook server will temporarily stop sending output\n",
      "to the client in order to avoid crashing it.\n",
      "To change this limit, set the config variable\n",
      "`--NotebookApp.iopub_msg_rate_limit`.\n",
      "\n",
      "Current values:\n",
      "NotebookApp.iopub_msg_rate_limit=1000.0 (msgs/sec)\n",
      "NotebookApp.rate_limit_window=3.0 (secs)\n",
      "\n"
     ]
    },
    {
     "name": "stdout",
     "output_type": "stream",
     "text": [
      "5052/5641 [=========================>....] - ETA: 3:28 - loss: 0.2228 - acc: 0.9511"
     ]
    },
    {
     "name": "stderr",
     "output_type": "stream",
     "text": [
      "IOPub message rate exceeded.\n",
      "The notebook server will temporarily stop sending output\n",
      "to the client in order to avoid crashing it.\n",
      "To change this limit, set the config variable\n",
      "`--NotebookApp.iopub_msg_rate_limit`.\n",
      "\n",
      "Current values:\n",
      "NotebookApp.iopub_msg_rate_limit=1000.0 (msgs/sec)\n",
      "NotebookApp.rate_limit_window=3.0 (secs)\n",
      "\n"
     ]
    },
    {
     "name": "stdout",
     "output_type": "stream",
     "text": [
      "5641/5641 [==============================] - 2071s 367ms/step - loss: 0.2153 - acc: 0.9523 - val_loss: 0.0844 - val_acc: 0.9653\n",
      "\n",
      "Epoch 00153: val_loss did not improve\n",
      "Epoch 154/1000\n",
      " 934/5641 [===>..........................] - ETA: 27:22 - loss: 0.2231 - acc: 0.9490"
     ]
    },
    {
     "name": "stderr",
     "output_type": "stream",
     "text": [
      "IOPub message rate exceeded.\n",
      "The notebook server will temporarily stop sending output\n",
      "to the client in order to avoid crashing it.\n",
      "To change this limit, set the config variable\n",
      "`--NotebookApp.iopub_msg_rate_limit`.\n",
      "\n",
      "Current values:\n",
      "NotebookApp.iopub_msg_rate_limit=1000.0 (msgs/sec)\n",
      "NotebookApp.rate_limit_window=3.0 (secs)\n",
      "\n"
     ]
    },
    {
     "name": "stdout",
     "output_type": "stream",
     "text": [
      "5641/5641 [==============================] - 2065s 366ms/step - loss: 0.2151 - acc: 0.9510 - val_loss: 0.0899 - val_acc: 0.9641\n",
      "\n",
      "Epoch 00154: val_loss did not improve\n",
      "Epoch 155/1000\n",
      "2364/5641 [===========>..................] - ETA: 19:13 - loss: 0.2175 - acc: 0.9512"
     ]
    },
    {
     "name": "stderr",
     "output_type": "stream",
     "text": [
      "IOPub message rate exceeded.\n",
      "The notebook server will temporarily stop sending output\n",
      "to the client in order to avoid crashing it.\n",
      "To change this limit, set the config variable\n",
      "`--NotebookApp.iopub_msg_rate_limit`.\n",
      "\n",
      "Current values:\n",
      "NotebookApp.iopub_msg_rate_limit=1000.0 (msgs/sec)\n",
      "NotebookApp.rate_limit_window=3.0 (secs)\n",
      "\n"
     ]
    },
    {
     "name": "stdout",
     "output_type": "stream",
     "text": [
      "3901/5641 [===================>..........] - ETA: 10:15 - loss: 0.2236 - acc: 0.9509"
     ]
    },
    {
     "name": "stderr",
     "output_type": "stream",
     "text": [
      "IOPub message rate exceeded.\n",
      "The notebook server will temporarily stop sending output\n",
      "to the client in order to avoid crashing it.\n",
      "To change this limit, set the config variable\n",
      "`--NotebookApp.iopub_msg_rate_limit`.\n",
      "\n",
      "Current values:\n",
      "NotebookApp.iopub_msg_rate_limit=1000.0 (msgs/sec)\n",
      "NotebookApp.rate_limit_window=3.0 (secs)\n",
      "\n"
     ]
    },
    {
     "name": "stdout",
     "output_type": "stream",
     "text": [
      "5641/5641 [==============================] - 2064s 366ms/step - loss: 0.2146 - acc: 0.9522 - val_loss: 0.1434 - val_acc: 0.9383\n",
      "\n",
      "Epoch 00157: val_loss did not improve\n",
      "Epoch 158/1000\n",
      "5425/5641 [===========================>..] - ETA: 1:16 - loss: 0.2103 - acc: 0.9539"
     ]
    },
    {
     "name": "stderr",
     "output_type": "stream",
     "text": [
      "IOPub message rate exceeded.\n",
      "The notebook server will temporarily stop sending output\n",
      "to the client in order to avoid crashing it.\n",
      "To change this limit, set the config variable\n",
      "`--NotebookApp.iopub_msg_rate_limit`.\n",
      "\n",
      "Current values:\n",
      "NotebookApp.iopub_msg_rate_limit=1000.0 (msgs/sec)\n",
      "NotebookApp.rate_limit_window=3.0 (secs)\n",
      "\n"
     ]
    },
    {
     "name": "stdout",
     "output_type": "stream",
     "text": [
      "5641/5641 [==============================] - 2071s 367ms/step - loss: 0.2106 - acc: 0.9540 - val_loss: 0.1044 - val_acc: 0.9563\n",
      "\n",
      "Epoch 00159: val_loss did not improve\n",
      "Epoch 160/1000\n",
      "5641/5641 [==============================] - 2068s 367ms/step - loss: 0.2152 - acc: 0.9517 - val_loss: 0.0823 - val_acc: 0.9665\n",
      "\n",
      "Epoch 00160: val_loss did not improve\n",
      "Epoch 161/1000\n",
      "3000/5641 [==============>...............] - ETA: 15:31 - loss: 0.2152 - acc: 0.9519"
     ]
    },
    {
     "name": "stderr",
     "output_type": "stream",
     "text": [
      "IOPub message rate exceeded.\n",
      "The notebook server will temporarily stop sending output\n",
      "to the client in order to avoid crashing it.\n",
      "To change this limit, set the config variable\n",
      "`--NotebookApp.iopub_msg_rate_limit`.\n",
      "\n",
      "Current values:\n",
      "NotebookApp.iopub_msg_rate_limit=1000.0 (msgs/sec)\n",
      "NotebookApp.rate_limit_window=3.0 (secs)\n",
      "\n"
     ]
    },
    {
     "name": "stdout",
     "output_type": "stream",
     "text": [
      "5641/5641 [==============================] - 2071s 367ms/step - loss: 0.2113 - acc: 0.9536 - val_loss: 0.0928 - val_acc: 0.9612\n",
      "\n",
      "Epoch 00162: val_loss did not improve\n",
      "Epoch 163/1000\n",
      "5641/5641 [==============================] - 2068s 367ms/step - loss: 0.2126 - acc: 0.9532 - val_loss: 0.0799 - val_acc: 0.9685\n",
      "\n",
      "Epoch 00163: val_loss did not improve\n",
      "Epoch 164/1000\n",
      "5641/5641 [==============================] - 2071s 367ms/step - loss: 0.2089 - acc: 0.9531 - val_loss: 0.0998 - val_acc: 0.9581\n",
      "\n",
      "Epoch 00164: val_loss did not improve\n",
      "Epoch 165/1000\n",
      "5641/5641 [==============================] - 2071s 367ms/step - loss: 0.2086 - acc: 0.9546 - val_loss: 0.1160 - val_acc: 0.9509\n",
      "\n",
      "Epoch 00165: val_loss did not improve\n",
      "Epoch 166/1000\n",
      "5641/5641 [==============================] - 2064s 366ms/step - loss: 0.2069 - acc: 0.9540 - val_loss: 0.0686 - val_acc: 0.9718\n",
      "\n",
      "Epoch 00166: val_loss improved from 0.07189 to 0.06857, saving model to small_model.h5\n",
      "Epoch 167/1000\n",
      "5641/5641 [==============================] - 2064s 366ms/step - loss: 0.2103 - acc: 0.9538 - val_loss: 0.0798 - val_acc: 0.9689\n",
      "\n",
      "Epoch 00167: val_loss did not improve\n",
      "Epoch 168/1000\n",
      "5641/5641 [==============================] - 2068s 367ms/step - loss: 0.2047 - acc: 0.9551 - val_loss: 0.0744 - val_acc: 0.9707\n",
      "\n",
      "Epoch 00168: val_loss did not improve\n",
      "Epoch 169/1000\n",
      "5641/5641 [==============================] - 2063s 366ms/step - loss: 0.2084 - acc: 0.9540 - val_loss: 0.0994 - val_acc: 0.9594\n",
      "\n",
      "Epoch 00169: val_loss did not improve\n",
      "Epoch 170/1000\n",
      "5641/5641 [==============================] - 2071s 367ms/step - loss: 0.2034 - acc: 0.9561 - val_loss: 0.0825 - val_acc: 0.9663\n",
      "\n",
      "Epoch 00170: val_loss did not improve\n",
      "Epoch 171/1000\n",
      "5641/5641 [==============================] - 2071s 367ms/step - loss: 0.2068 - acc: 0.9537 - val_loss: 0.0809 - val_acc: 0.9661\n",
      "\n",
      "Epoch 00171: val_loss did not improve\n",
      "Epoch 172/1000\n",
      "5641/5641 [==============================] - 2086s 370ms/step - loss: 0.2065 - acc: 0.9545 - val_loss: 0.0813 - val_acc: 0.9664\n",
      "\n",
      "Epoch 00172: val_loss did not improve\n",
      "Epoch 173/1000\n",
      "5641/5641 [==============================] - 2085s 370ms/step - loss: 0.2017 - acc: 0.9552 - val_loss: 0.0915 - val_acc: 0.9628\n",
      "\n",
      "Epoch 00173: val_loss did not improve\n",
      "Epoch 174/1000\n",
      "5641/5641 [==============================] - 2088s 370ms/step - loss: 0.2026 - acc: 0.9560 - val_loss: 0.1134 - val_acc: 0.9533\n",
      "\n",
      "Epoch 00174: val_loss did not improve\n",
      "Epoch 175/1000\n",
      "5641/5641 [==============================] - 2075s 368ms/step - loss: 0.2082 - acc: 0.9533 - val_loss: 0.0785 - val_acc: 0.9678\n",
      "\n",
      "Epoch 00175: val_loss did not improve\n",
      "Epoch 176/1000\n",
      "5641/5641 [==============================] - 2069s 367ms/step - loss: 0.2035 - acc: 0.9544 - val_loss: 0.0903 - val_acc: 0.9631\n",
      "\n",
      "Epoch 00176: val_loss did not improve\n",
      "Epoch 177/1000\n",
      "5641/5641 [==============================] - 2068s 367ms/step - loss: 0.2012 - acc: 0.9564 - val_loss: 0.0842 - val_acc: 0.9662\n",
      "\n",
      "Epoch 00177: val_loss did not improve\n",
      "Epoch 178/1000\n",
      "5641/5641 [==============================] - 2073s 367ms/step - loss: 0.2008 - acc: 0.9555 - val_loss: 0.0787 - val_acc: 0.9673\n",
      "\n",
      "Epoch 00178: val_loss did not improve\n",
      "Epoch 179/1000\n",
      "5641/5641 [==============================] - 2069s 367ms/step - loss: 0.2033 - acc: 0.9564 - val_loss: 0.0678 - val_acc: 0.9730\n",
      "\n",
      "Epoch 00179: val_loss improved from 0.06857 to 0.06785, saving model to small_model.h5\n",
      "Epoch 180/1000\n",
      "5641/5641 [==============================] - 2073s 367ms/step - loss: 0.2025 - acc: 0.9555 - val_loss: 0.0962 - val_acc: 0.9604\n",
      "\n",
      "Epoch 00180: val_loss did not improve\n",
      "Epoch 181/1000\n",
      "1938/5641 [=========>....................] - ETA: 21:44 - loss: 0.1960 - acc: 0.9569"
     ]
    },
    {
     "name": "stderr",
     "output_type": "stream",
     "text": [
      "IOPub message rate exceeded.\n",
      "The notebook server will temporarily stop sending output\n",
      "to the client in order to avoid crashing it.\n",
      "To change this limit, set the config variable\n",
      "`--NotebookApp.iopub_msg_rate_limit`.\n",
      "\n",
      "Current values:\n",
      "NotebookApp.iopub_msg_rate_limit=1000.0 (msgs/sec)\n",
      "NotebookApp.rate_limit_window=3.0 (secs)\n",
      "\n"
     ]
    },
    {
     "name": "stdout",
     "output_type": "stream",
     "text": [
      "5641/5641 [==============================] - 2071s 367ms/step - loss: 0.2010 - acc: 0.9560 - val_loss: 0.0837 - val_acc: 0.9664\n",
      "\n",
      "Epoch 00182: val_loss did not improve\n",
      "Epoch 183/1000\n",
      "4242/5641 [=====================>........] - ETA: 8:14 - loss: 0.2040 - acc: 0.9544"
     ]
    },
    {
     "name": "stderr",
     "output_type": "stream",
     "text": [
      "IOPub message rate exceeded.\n",
      "The notebook server will temporarily stop sending output\n",
      "to the client in order to avoid crashing it.\n",
      "To change this limit, set the config variable\n",
      "`--NotebookApp.iopub_msg_rate_limit`.\n",
      "\n",
      "Current values:\n",
      "NotebookApp.iopub_msg_rate_limit=1000.0 (msgs/sec)\n",
      "NotebookApp.rate_limit_window=3.0 (secs)\n",
      "\n"
     ]
    },
    {
     "name": "stdout",
     "output_type": "stream",
     "text": [
      "5641/5641 [==============================] - 2070s 367ms/step - loss: 0.1984 - acc: 0.9558 - val_loss: 0.0805 - val_acc: 0.9673\n",
      "\n",
      "Epoch 00184: val_loss did not improve\n",
      "Epoch 185/1000\n",
      " 440/5641 [=>............................] - ETA: 30:02 - loss: 0.2048 - acc: 0.9552"
     ]
    },
    {
     "name": "stderr",
     "output_type": "stream",
     "text": [
      "IOPub message rate exceeded.\n",
      "The notebook server will temporarily stop sending output\n",
      "to the client in order to avoid crashing it.\n",
      "To change this limit, set the config variable\n",
      "`--NotebookApp.iopub_msg_rate_limit`.\n",
      "\n",
      "Current values:\n",
      "NotebookApp.iopub_msg_rate_limit=1000.0 (msgs/sec)\n",
      "NotebookApp.rate_limit_window=3.0 (secs)\n",
      "\n"
     ]
    },
    {
     "name": "stdout",
     "output_type": "stream",
     "text": [
      "5641/5641 [==============================] - 2063s 366ms/step - loss: 0.2015 - acc: 0.9556 - val_loss: 0.0896 - val_acc: 0.9635\n",
      "\n",
      "Epoch 00185: val_loss did not improve\n",
      "Epoch 186/1000\n",
      "4410/5641 [======================>.......] - ETA: 7:14 - loss: 0.1985 - acc: 0.9551"
     ]
    },
    {
     "name": "stderr",
     "output_type": "stream",
     "text": [
      "IOPub message rate exceeded.\n",
      "The notebook server will temporarily stop sending output\n",
      "to the client in order to avoid crashing it.\n",
      "To change this limit, set the config variable\n",
      "`--NotebookApp.iopub_msg_rate_limit`.\n",
      "\n",
      "Current values:\n",
      "NotebookApp.iopub_msg_rate_limit=1000.0 (msgs/sec)\n",
      "NotebookApp.rate_limit_window=3.0 (secs)\n",
      "\n"
     ]
    },
    {
     "name": "stdout",
     "output_type": "stream",
     "text": [
      "5641/5641 [==============================] - 2070s 367ms/step - loss: 0.1997 - acc: 0.9559 - val_loss: 0.1032 - val_acc: 0.9567\n",
      "\n",
      "Epoch 00187: val_loss did not improve\n",
      "Epoch 188/1000\n",
      " 239/5641 [>.............................] - ETA: 30:28 - loss: 0.2238 - acc: 0.9521"
     ]
    },
    {
     "name": "stderr",
     "output_type": "stream",
     "text": [
      "IOPub message rate exceeded.\n",
      "The notebook server will temporarily stop sending output\n",
      "to the client in order to avoid crashing it.\n",
      "To change this limit, set the config variable\n",
      "`--NotebookApp.iopub_msg_rate_limit`.\n",
      "\n",
      "Current values:\n",
      "NotebookApp.iopub_msg_rate_limit=1000.0 (msgs/sec)\n",
      "NotebookApp.rate_limit_window=3.0 (secs)\n",
      "\n"
     ]
    },
    {
     "name": "stdout",
     "output_type": "stream",
     "text": [
      "5641/5641 [==============================] - 2066s 366ms/step - loss: 0.1979 - acc: 0.9563 - val_loss: 0.0878 - val_acc: 0.9646\n",
      "\n",
      "Epoch 00188: val_loss did not improve\n",
      "Epoch 189/1000\n",
      "1954/5641 [=========>....................] - ETA: 21:27 - loss: 0.1982 - acc: 0.9567"
     ]
    },
    {
     "name": "stderr",
     "output_type": "stream",
     "text": [
      "IOPub message rate exceeded.\n",
      "The notebook server will temporarily stop sending output\n",
      "to the client in order to avoid crashing it.\n",
      "To change this limit, set the config variable\n",
      "`--NotebookApp.iopub_msg_rate_limit`.\n",
      "\n",
      "Current values:\n",
      "NotebookApp.iopub_msg_rate_limit=1000.0 (msgs/sec)\n",
      "NotebookApp.rate_limit_window=3.0 (secs)\n",
      "\n"
     ]
    },
    {
     "name": "stdout",
     "output_type": "stream",
     "text": [
      "3317/5641 [================>.............] - ETA: 13:39 - loss: 0.1980 - acc: 0.9559"
     ]
    },
    {
     "name": "stderr",
     "output_type": "stream",
     "text": [
      "IOPub message rate exceeded.\n",
      "The notebook server will temporarily stop sending output\n",
      "to the client in order to avoid crashing it.\n",
      "To change this limit, set the config variable\n",
      "`--NotebookApp.iopub_msg_rate_limit`.\n",
      "\n",
      "Current values:\n",
      "NotebookApp.iopub_msg_rate_limit=1000.0 (msgs/sec)\n",
      "NotebookApp.rate_limit_window=3.0 (secs)\n",
      "\n"
     ]
    },
    {
     "name": "stdout",
     "output_type": "stream",
     "text": [
      "4968/5641 [=========================>....] - ETA: 3:57 - loss: 0.1911 - acc: 0.9578"
     ]
    },
    {
     "name": "stderr",
     "output_type": "stream",
     "text": [
      "IOPub message rate exceeded.\n",
      "The notebook server will temporarily stop sending output\n",
      "to the client in order to avoid crashing it.\n",
      "To change this limit, set the config variable\n",
      "`--NotebookApp.iopub_msg_rate_limit`.\n",
      "\n",
      "Current values:\n",
      "NotebookApp.iopub_msg_rate_limit=1000.0 (msgs/sec)\n",
      "NotebookApp.rate_limit_window=3.0 (secs)\n",
      "\n"
     ]
    },
    {
     "name": "stdout",
     "output_type": "stream",
     "text": [
      "5641/5641 [==============================] - 2065s 366ms/step - loss: 0.1911 - acc: 0.9574 - val_loss: 0.0862 - val_acc: 0.9654\n",
      "\n",
      "Epoch 00192: val_loss did not improve\n",
      "Epoch 193/1000\n",
      "1127/5641 [====>.........................] - ETA: 26:19 - loss: 0.1984 - acc: 0.9568"
     ]
    },
    {
     "name": "stderr",
     "output_type": "stream",
     "text": [
      "IOPub message rate exceeded.\n",
      "The notebook server will temporarily stop sending output\n",
      "to the client in order to avoid crashing it.\n",
      "To change this limit, set the config variable\n",
      "`--NotebookApp.iopub_msg_rate_limit`.\n",
      "\n",
      "Current values:\n",
      "NotebookApp.iopub_msg_rate_limit=1000.0 (msgs/sec)\n",
      "NotebookApp.rate_limit_window=3.0 (secs)\n",
      "\n"
     ]
    },
    {
     "name": "stdout",
     "output_type": "stream",
     "text": [
      "5641/5641 [==============================] - 2064s 366ms/step - loss: 0.1976 - acc: 0.9572 - val_loss: 0.0741 - val_acc: 0.9693\n",
      "\n",
      "Epoch 00193: val_loss did not improve\n",
      "Epoch 194/1000\n",
      "2741/5641 [=============>................] - ETA: 16:57 - loss: 0.1992 - acc: 0.9558"
     ]
    },
    {
     "name": "stderr",
     "output_type": "stream",
     "text": [
      "IOPub message rate exceeded.\n",
      "The notebook server will temporarily stop sending output\n",
      "to the client in order to avoid crashing it.\n",
      "To change this limit, set the config variable\n",
      "`--NotebookApp.iopub_msg_rate_limit`.\n",
      "\n",
      "Current values:\n",
      "NotebookApp.iopub_msg_rate_limit=1000.0 (msgs/sec)\n",
      "NotebookApp.rate_limit_window=3.0 (secs)\n",
      "\n"
     ]
    },
    {
     "name": "stdout",
     "output_type": "stream",
     "text": [
      "4349/5641 [======================>.......] - ETA: 7:35 - loss: 0.2021 - acc: 0.9555"
     ]
    },
    {
     "name": "stderr",
     "output_type": "stream",
     "text": [
      "IOPub message rate exceeded.\n",
      "The notebook server will temporarily stop sending output\n",
      "to the client in order to avoid crashing it.\n",
      "To change this limit, set the config variable\n",
      "`--NotebookApp.iopub_msg_rate_limit`.\n",
      "\n",
      "Current values:\n",
      "NotebookApp.iopub_msg_rate_limit=1000.0 (msgs/sec)\n",
      "NotebookApp.rate_limit_window=3.0 (secs)\n",
      "\n"
     ]
    },
    {
     "name": "stdout",
     "output_type": "stream",
     "text": [
      "5641/5641 [==============================] - 2071s 367ms/step - loss: 0.1949 - acc: 0.9568 - val_loss: 0.1072 - val_acc: 0.9550\n",
      "\n",
      "Epoch 00196: val_loss did not improve\n",
      "Epoch 197/1000\n",
      " 258/5641 [>.............................] - ETA: 30:21 - loss: 0.1843 - acc: 0.9605"
     ]
    },
    {
     "name": "stderr",
     "output_type": "stream",
     "text": [
      "IOPub message rate exceeded.\n",
      "The notebook server will temporarily stop sending output\n",
      "to the client in order to avoid crashing it.\n",
      "To change this limit, set the config variable\n",
      "`--NotebookApp.iopub_msg_rate_limit`.\n",
      "\n",
      "Current values:\n",
      "NotebookApp.iopub_msg_rate_limit=1000.0 (msgs/sec)\n",
      "NotebookApp.rate_limit_window=3.0 (secs)\n",
      "\n"
     ]
    },
    {
     "name": "stdout",
     "output_type": "stream",
     "text": [
      "5641/5641 [==============================] - 2065s 366ms/step - loss: 0.1917 - acc: 0.9572 - val_loss: 0.0678 - val_acc: 0.9742\n",
      "\n",
      "Epoch 00197: val_loss did not improve\n",
      "Epoch 198/1000\n",
      "5641/5641 [==============================] - 2074s 368ms/step - loss: 0.1934 - acc: 0.9575 - val_loss: 0.0893 - val_acc: 0.9655\n",
      "\n",
      "Epoch 00198: val_loss did not improve\n",
      "Epoch 199/1000\n",
      "5641/5641 [==============================] - 2065s 366ms/step - loss: 0.1915 - acc: 0.9580 - val_loss: 0.0892 - val_acc: 0.9625\n",
      "\n",
      "Epoch 00199: val_loss did not improve\n",
      "Epoch 200/1000\n",
      "3001/5641 [==============>...............] - ETA: 15:33 - loss: 0.1954 - acc: 0.9569"
     ]
    },
    {
     "name": "stderr",
     "output_type": "stream",
     "text": [
      "IOPub message rate exceeded.\n",
      "The notebook server will temporarily stop sending output\n",
      "to the client in order to avoid crashing it.\n",
      "To change this limit, set the config variable\n",
      "`--NotebookApp.iopub_msg_rate_limit`.\n",
      "\n",
      "Current values:\n",
      "NotebookApp.iopub_msg_rate_limit=1000.0 (msgs/sec)\n",
      "NotebookApp.rate_limit_window=3.0 (secs)\n",
      "\n"
     ]
    },
    {
     "name": "stdout",
     "output_type": "stream",
     "text": [
      "4780/5641 [========================>.....] - ETA: 5:04 - loss: 0.1928 - acc: 0.9576"
     ]
    },
    {
     "name": "stderr",
     "output_type": "stream",
     "text": [
      "IOPub message rate exceeded.\n",
      "The notebook server will temporarily stop sending output\n",
      "to the client in order to avoid crashing it.\n",
      "To change this limit, set the config variable\n",
      "`--NotebookApp.iopub_msg_rate_limit`.\n",
      "\n",
      "Current values:\n",
      "NotebookApp.iopub_msg_rate_limit=1000.0 (msgs/sec)\n",
      "NotebookApp.rate_limit_window=3.0 (secs)\n",
      "\n"
     ]
    },
    {
     "name": "stdout",
     "output_type": "stream",
     "text": [
      "5641/5641 [==============================] - 2070s 367ms/step - loss: 0.1895 - acc: 0.9578 - val_loss: 0.1003 - val_acc: 0.9586\n",
      "\n",
      "Epoch 00202: val_loss did not improve\n",
      "Epoch 203/1000\n",
      " 901/5641 [===>..........................] - ETA: 27:34 - loss: 0.1844 - acc: 0.9581"
     ]
    },
    {
     "name": "stderr",
     "output_type": "stream",
     "text": [
      "IOPub message rate exceeded.\n",
      "The notebook server will temporarily stop sending output\n",
      "to the client in order to avoid crashing it.\n",
      "To change this limit, set the config variable\n",
      "`--NotebookApp.iopub_msg_rate_limit`.\n",
      "\n",
      "Current values:\n",
      "NotebookApp.iopub_msg_rate_limit=1000.0 (msgs/sec)\n",
      "NotebookApp.rate_limit_window=3.0 (secs)\n",
      "\n"
     ]
    },
    {
     "name": "stdout",
     "output_type": "stream",
     "text": [
      "5641/5641 [==============================] - 2066s 366ms/step - loss: 0.1852 - acc: 0.9595 - val_loss: 0.0943 - val_acc: 0.9620\n",
      "\n",
      "Epoch 00203: val_loss did not improve\n",
      "Epoch 204/1000\n",
      "2289/5641 [===========>..................] - ETA: 19:38 - loss: 0.1842 - acc: 0.9592"
     ]
    },
    {
     "name": "stderr",
     "output_type": "stream",
     "text": [
      "IOPub message rate exceeded.\n",
      "The notebook server will temporarily stop sending output\n",
      "to the client in order to avoid crashing it.\n",
      "To change this limit, set the config variable\n",
      "`--NotebookApp.iopub_msg_rate_limit`.\n",
      "\n",
      "Current values:\n",
      "NotebookApp.iopub_msg_rate_limit=1000.0 (msgs/sec)\n",
      "NotebookApp.rate_limit_window=3.0 (secs)\n",
      "\n"
     ]
    },
    {
     "name": "stdout",
     "output_type": "stream",
     "text": [
      "3603/5641 [==================>...........] - ETA: 11:58 - loss: 0.1932 - acc: 0.9581"
     ]
    },
    {
     "name": "stderr",
     "output_type": "stream",
     "text": [
      "IOPub message rate exceeded.\n",
      "The notebook server will temporarily stop sending output\n",
      "to the client in order to avoid crashing it.\n",
      "To change this limit, set the config variable\n",
      "`--NotebookApp.iopub_msg_rate_limit`.\n",
      "\n",
      "Current values:\n",
      "NotebookApp.iopub_msg_rate_limit=1000.0 (msgs/sec)\n",
      "NotebookApp.rate_limit_window=3.0 (secs)\n",
      "\n"
     ]
    },
    {
     "name": "stdout",
     "output_type": "stream",
     "text": [
      "5641/5641 [==============================] - 2063s 366ms/step - loss: 0.1882 - acc: 0.9584 - val_loss: 0.0854 - val_acc: 0.9642\n",
      "\n",
      "Epoch 00206: val_loss did not improve\n",
      "Epoch 207/1000\n",
      "5641/5641 [==============================] - 2069s 367ms/step - loss: 0.1874 - acc: 0.9589 - val_loss: 0.0594 - val_acc: 0.9761\n",
      "\n",
      "Epoch 00207: val_loss improved from 0.06699 to 0.05940, saving model to small_model.h5\n",
      "Epoch 208/1000\n",
      "5641/5641 [==============================] - 2067s 366ms/step - loss: 0.1865 - acc: 0.9593 - val_loss: 0.0651 - val_acc: 0.9741\n",
      "\n",
      "Epoch 00208: val_loss did not improve\n",
      "Epoch 209/1000\n",
      "5641/5641 [==============================] - 2066s 366ms/step - loss: 0.1851 - acc: 0.9577 - val_loss: 0.1130 - val_acc: 0.9527\n",
      "\n",
      "Epoch 00209: val_loss did not improve\n",
      "Epoch 210/1000\n",
      "5641/5641 [==============================] - 2072s 367ms/step - loss: 0.1921 - acc: 0.9575 - val_loss: 0.0834 - val_acc: 0.9651\n",
      "\n",
      "Epoch 00210: val_loss did not improve\n",
      "Epoch 211/1000\n",
      "5641/5641 [==============================] - 2070s 367ms/step - loss: 0.1886 - acc: 0.9580 - val_loss: 0.0904 - val_acc: 0.9616\n",
      "\n",
      "Epoch 00211: val_loss did not improve\n",
      "Epoch 212/1000\n",
      "5641/5641 [==============================] - 2079s 369ms/step - loss: 0.1841 - acc: 0.9587 - val_loss: 0.0679 - val_acc: 0.9729\n",
      "\n",
      "Epoch 00212: val_loss did not improve\n",
      "Epoch 213/1000\n",
      "5641/5641 [==============================] - 2080s 369ms/step - loss: 0.1881 - acc: 0.9595 - val_loss: 0.0719 - val_acc: 0.9719\n",
      "\n",
      "Epoch 00213: val_loss did not improve\n",
      "Epoch 214/1000\n",
      "5641/5641 [==============================] - 2079s 368ms/step - loss: 0.1849 - acc: 0.9591 - val_loss: 0.0988 - val_acc: 0.9622\n",
      "\n",
      "Epoch 00214: val_loss did not improve\n",
      "Epoch 215/1000\n",
      "5641/5641 [==============================] - 2073s 367ms/step - loss: 0.1818 - acc: 0.9602 - val_loss: 0.0645 - val_acc: 0.9750\n",
      "\n",
      "Epoch 00215: val_loss did not improve\n",
      "Epoch 216/1000\n",
      "5641/5641 [==============================] - 2079s 369ms/step - loss: 0.1807 - acc: 0.9601 - val_loss: 0.0689 - val_acc: 0.9729\n",
      "\n",
      "Epoch 00216: val_loss did not improve\n",
      "Epoch 217/1000\n",
      "5641/5641 [==============================] - 2070s 367ms/step - loss: 0.1827 - acc: 0.9594 - val_loss: 0.0629 - val_acc: 0.9754\n",
      "\n",
      "Epoch 00217: val_loss did not improve\n",
      "Epoch 218/1000\n",
      "5641/5641 [==============================] - 2052s 364ms/step - loss: 0.1832 - acc: 0.9590 - val_loss: 0.0810 - val_acc: 0.9680\n",
      "\n",
      "Epoch 00218: val_loss did not improve\n",
      "Epoch 219/1000\n",
      "5641/5641 [==============================] - 2070s 367ms/step - loss: 0.1823 - acc: 0.9602 - val_loss: 0.0658 - val_acc: 0.9736\n",
      "\n",
      "Epoch 00219: val_loss did not improve\n",
      "Epoch 220/1000\n",
      "5641/5641 [==============================] - 2067s 366ms/step - loss: 0.1787 - acc: 0.9617 - val_loss: 0.0708 - val_acc: 0.9715\n",
      "\n",
      "Epoch 00220: val_loss did not improve\n",
      "Epoch 221/1000\n",
      "1820/5641 [========>.....................] - ETA: 22:23 - loss: 0.1811 - acc: 0.9610"
     ]
    },
    {
     "name": "stderr",
     "output_type": "stream",
     "text": [
      "IOPub message rate exceeded.\n",
      "The notebook server will temporarily stop sending output\n",
      "to the client in order to avoid crashing it.\n",
      "To change this limit, set the config variable\n",
      "`--NotebookApp.iopub_msg_rate_limit`.\n",
      "\n",
      "Current values:\n",
      "NotebookApp.iopub_msg_rate_limit=1000.0 (msgs/sec)\n",
      "NotebookApp.rate_limit_window=3.0 (secs)\n",
      "\n"
     ]
    },
    {
     "name": "stdout",
     "output_type": "stream",
     "text": [
      "3670/5641 [==================>...........] - ETA: 11:35 - loss: 0.1780 - acc: 0.9615"
     ]
    },
    {
     "name": "stderr",
     "output_type": "stream",
     "text": [
      "IOPub message rate exceeded.\n",
      "The notebook server will temporarily stop sending output\n",
      "to the client in order to avoid crashing it.\n",
      "To change this limit, set the config variable\n",
      "`--NotebookApp.iopub_msg_rate_limit`.\n",
      "\n",
      "Current values:\n",
      "NotebookApp.iopub_msg_rate_limit=1000.0 (msgs/sec)\n",
      "NotebookApp.rate_limit_window=3.0 (secs)\n",
      "\n"
     ]
    },
    {
     "name": "stdout",
     "output_type": "stream",
     "text": [
      "5472/5641 [============================>.] - ETA: 59s - loss: 0.1833 - acc: 0.9602"
     ]
    },
    {
     "name": "stderr",
     "output_type": "stream",
     "text": [
      "IOPub message rate exceeded.\n",
      "The notebook server will temporarily stop sending output\n",
      "to the client in order to avoid crashing it.\n",
      "To change this limit, set the config variable\n",
      "`--NotebookApp.iopub_msg_rate_limit`.\n",
      "\n",
      "Current values:\n",
      "NotebookApp.iopub_msg_rate_limit=1000.0 (msgs/sec)\n",
      "NotebookApp.rate_limit_window=3.0 (secs)\n",
      "\n"
     ]
    },
    {
     "name": "stdout",
     "output_type": "stream",
     "text": [
      "5641/5641 [==============================] - 2066s 366ms/step - loss: 0.1835 - acc: 0.9604 - val_loss: 0.1704 - val_acc: 0.9312\n",
      "\n",
      "Epoch 00224: val_loss did not improve\n",
      "Epoch 225/1000\n",
      "1714/5641 [========>.....................] - ETA: 23:00 - loss: 0.1821 - acc: 0.9609"
     ]
    },
    {
     "name": "stderr",
     "output_type": "stream",
     "text": [
      "IOPub message rate exceeded.\n",
      "The notebook server will temporarily stop sending output\n",
      "to the client in order to avoid crashing it.\n",
      "To change this limit, set the config variable\n",
      "`--NotebookApp.iopub_msg_rate_limit`.\n",
      "\n",
      "Current values:\n",
      "NotebookApp.iopub_msg_rate_limit=1000.0 (msgs/sec)\n",
      "NotebookApp.rate_limit_window=3.0 (secs)\n",
      "\n"
     ]
    },
    {
     "name": "stdout",
     "output_type": "stream",
     "text": [
      "3457/5641 [=================>............] - ETA: 12:50 - loss: 0.1843 - acc: 0.9585"
     ]
    },
    {
     "name": "stderr",
     "output_type": "stream",
     "text": [
      "IOPub message rate exceeded.\n",
      "The notebook server will temporarily stop sending output\n",
      "to the client in order to avoid crashing it.\n",
      "To change this limit, set the config variable\n",
      "`--NotebookApp.iopub_msg_rate_limit`.\n",
      "\n",
      "Current values:\n",
      "NotebookApp.iopub_msg_rate_limit=1000.0 (msgs/sec)\n",
      "NotebookApp.rate_limit_window=3.0 (secs)\n",
      "\n"
     ]
    },
    {
     "name": "stdout",
     "output_type": "stream",
     "text": [
      "4911/5641 [=========================>....] - ETA: 4:18 - loss: 0.1825 - acc: 0.9599"
     ]
    },
    {
     "name": "stderr",
     "output_type": "stream",
     "text": [
      "IOPub message rate exceeded.\n",
      "The notebook server will temporarily stop sending output\n",
      "to the client in order to avoid crashing it.\n",
      "To change this limit, set the config variable\n",
      "`--NotebookApp.iopub_msg_rate_limit`.\n",
      "\n",
      "Current values:\n",
      "NotebookApp.iopub_msg_rate_limit=1000.0 (msgs/sec)\n",
      "NotebookApp.rate_limit_window=3.0 (secs)\n",
      "\n"
     ]
    },
    {
     "name": "stdout",
     "output_type": "stream",
     "text": [
      "5641/5641 [==============================] - 2069s 367ms/step - loss: 0.1851 - acc: 0.9603 - val_loss: 0.0805 - val_acc: 0.9685\n",
      "\n",
      "Epoch 00228: val_loss did not improve\n",
      "Epoch 229/1000\n",
      " 946/5641 [====>.........................] - ETA: 27:27 - loss: 0.1885 - acc: 0.9596"
     ]
    },
    {
     "name": "stderr",
     "output_type": "stream",
     "text": [
      "IOPub message rate exceeded.\n",
      "The notebook server will temporarily stop sending output\n",
      "to the client in order to avoid crashing it.\n",
      "To change this limit, set the config variable\n",
      "`--NotebookApp.iopub_msg_rate_limit`.\n",
      "\n",
      "Current values:\n",
      "NotebookApp.iopub_msg_rate_limit=1000.0 (msgs/sec)\n",
      "NotebookApp.rate_limit_window=3.0 (secs)\n",
      "\n"
     ]
    },
    {
     "name": "stdout",
     "output_type": "stream",
     "text": [
      "5641/5641 [==============================] - 2073s 368ms/step - loss: 0.1774 - acc: 0.9600 - val_loss: 0.0661 - val_acc: 0.9732\n",
      "\n",
      "Epoch 00229: val_loss did not improve\n",
      "Epoch 230/1000\n",
      "2519/5641 [============>.................] - ETA: 18:18 - loss: 0.1745 - acc: 0.9589"
     ]
    },
    {
     "name": "stderr",
     "output_type": "stream",
     "text": [
      "IOPub message rate exceeded.\n",
      "The notebook server will temporarily stop sending output\n",
      "to the client in order to avoid crashing it.\n",
      "To change this limit, set the config variable\n",
      "`--NotebookApp.iopub_msg_rate_limit`.\n",
      "\n",
      "Current values:\n",
      "NotebookApp.iopub_msg_rate_limit=1000.0 (msgs/sec)\n",
      "NotebookApp.rate_limit_window=3.0 (secs)\n",
      "\n"
     ]
    },
    {
     "name": "stdout",
     "output_type": "stream",
     "text": [
      "3974/5641 [====================>.........] - ETA: 9:48 - loss: 0.1803 - acc: 0.9603"
     ]
    },
    {
     "name": "stderr",
     "output_type": "stream",
     "text": [
      "IOPub message rate exceeded.\n",
      "The notebook server will temporarily stop sending output\n",
      "to the client in order to avoid crashing it.\n",
      "To change this limit, set the config variable\n",
      "`--NotebookApp.iopub_msg_rate_limit`.\n",
      "\n",
      "Current values:\n",
      "NotebookApp.iopub_msg_rate_limit=1000.0 (msgs/sec)\n",
      "NotebookApp.rate_limit_window=3.0 (secs)\n",
      "\n"
     ]
    },
    {
     "name": "stdout",
     "output_type": "stream",
     "text": [
      "5495/5641 [============================>.] - ETA: 51s - loss: 0.1768 - acc: 0.9609"
     ]
    },
    {
     "name": "stderr",
     "output_type": "stream",
     "text": [
      "IOPub message rate exceeded.\n",
      "The notebook server will temporarily stop sending output\n",
      "to the client in order to avoid crashing it.\n",
      "To change this limit, set the config variable\n",
      "`--NotebookApp.iopub_msg_rate_limit`.\n",
      "\n",
      "Current values:\n",
      "NotebookApp.iopub_msg_rate_limit=1000.0 (msgs/sec)\n",
      "NotebookApp.rate_limit_window=3.0 (secs)\n",
      "\n"
     ]
    },
    {
     "name": "stdout",
     "output_type": "stream",
     "text": [
      "5641/5641 [==============================] - 2065s 366ms/step - loss: 0.1763 - acc: 0.9609 - val_loss: 0.0681 - val_acc: 0.9731\n",
      "\n",
      "Epoch 00233: val_loss did not improve\n",
      "Epoch 234/1000\n",
      "1265/5641 [=====>........................] - ETA: 25:35 - loss: 0.1702 - acc: 0.9636"
     ]
    },
    {
     "name": "stderr",
     "output_type": "stream",
     "text": [
      "IOPub message rate exceeded.\n",
      "The notebook server will temporarily stop sending output\n",
      "to the client in order to avoid crashing it.\n",
      "To change this limit, set the config variable\n",
      "`--NotebookApp.iopub_msg_rate_limit`.\n",
      "\n",
      "Current values:\n",
      "NotebookApp.iopub_msg_rate_limit=1000.0 (msgs/sec)\n",
      "NotebookApp.rate_limit_window=3.0 (secs)\n",
      "\n"
     ]
    },
    {
     "name": "stdout",
     "output_type": "stream",
     "text": [
      "5641/5641 [==============================] - 2067s 366ms/step - loss: 0.1807 - acc: 0.9613 - val_loss: 0.1181 - val_acc: 0.9536\n",
      "\n",
      "Epoch 00234: val_loss did not improve\n",
      "Epoch 235/1000\n",
      "2770/5641 [=============>................] - ETA: 16:53 - loss: 0.1828 - acc: 0.9610"
     ]
    },
    {
     "name": "stderr",
     "output_type": "stream",
     "text": [
      "IOPub message rate exceeded.\n",
      "The notebook server will temporarily stop sending output\n",
      "to the client in order to avoid crashing it.\n",
      "To change this limit, set the config variable\n",
      "`--NotebookApp.iopub_msg_rate_limit`.\n",
      "\n",
      "Current values:\n",
      "NotebookApp.iopub_msg_rate_limit=1000.0 (msgs/sec)\n",
      "NotebookApp.rate_limit_window=3.0 (secs)\n",
      "\n"
     ]
    },
    {
     "name": "stdout",
     "output_type": "stream",
     "text": [
      "4404/5641 [======================>.......] - ETA: 7:17 - loss: 0.1745 - acc: 0.9613"
     ]
    },
    {
     "name": "stderr",
     "output_type": "stream",
     "text": [
      "IOPub message rate exceeded.\n",
      "The notebook server will temporarily stop sending output\n",
      "to the client in order to avoid crashing it.\n",
      "To change this limit, set the config variable\n",
      "`--NotebookApp.iopub_msg_rate_limit`.\n",
      "\n",
      "Current values:\n",
      "NotebookApp.iopub_msg_rate_limit=1000.0 (msgs/sec)\n",
      "NotebookApp.rate_limit_window=3.0 (secs)\n",
      "\n"
     ]
    },
    {
     "name": "stdout",
     "output_type": "stream",
     "text": [
      "5641/5641 [==============================] - 2068s 367ms/step - loss: 0.1757 - acc: 0.9616 - val_loss: 0.0752 - val_acc: 0.9697\n",
      "\n",
      "Epoch 00237: val_loss did not improve\n",
      "Epoch 238/1000\n",
      " 137/5641 [..............................] - ETA: 30:17 - loss: 0.1790 - acc: 0.9585"
     ]
    },
    {
     "name": "stderr",
     "output_type": "stream",
     "text": [
      "IOPub message rate exceeded.\n",
      "The notebook server will temporarily stop sending output\n",
      "to the client in order to avoid crashing it.\n",
      "To change this limit, set the config variable\n",
      "`--NotebookApp.iopub_msg_rate_limit`.\n",
      "\n",
      "Current values:\n",
      "NotebookApp.iopub_msg_rate_limit=1000.0 (msgs/sec)\n",
      "NotebookApp.rate_limit_window=3.0 (secs)\n",
      "\n"
     ]
    },
    {
     "name": "stdout",
     "output_type": "stream",
     "text": [
      "5641/5641 [==============================] - 2072s 367ms/step - loss: 0.1739 - acc: 0.9618 - val_loss: 0.0586 - val_acc: 0.9764\n",
      "\n",
      "Epoch 00238: val_loss improved from 0.05940 to 0.05857, saving model to small_model.h5\n",
      "Epoch 239/1000\n",
      "1555/5641 [=======>......................] - ETA: 23:58 - loss: 0.1742 - acc: 0.9604"
     ]
    },
    {
     "name": "stderr",
     "output_type": "stream",
     "text": [
      "IOPub message rate exceeded.\n",
      "The notebook server will temporarily stop sending output\n",
      "to the client in order to avoid crashing it.\n",
      "To change this limit, set the config variable\n",
      "`--NotebookApp.iopub_msg_rate_limit`.\n",
      "\n",
      "Current values:\n",
      "NotebookApp.iopub_msg_rate_limit=1000.0 (msgs/sec)\n",
      "NotebookApp.rate_limit_window=3.0 (secs)\n",
      "\n"
     ]
    },
    {
     "name": "stdout",
     "output_type": "stream",
     "text": [
      "5641/5641 [==============================] - 2070s 367ms/step - loss: 0.1751 - acc: 0.9614 - val_loss: 0.0846 - val_acc: 0.9646\n",
      "\n",
      "Epoch 00239: val_loss did not improve\n",
      "Epoch 240/1000\n",
      "2803/5641 [=============>................] - ETA: 16:39 - loss: 0.1713 - acc: 0.9621"
     ]
    },
    {
     "name": "stderr",
     "output_type": "stream",
     "text": [
      "IOPub message rate exceeded.\n",
      "The notebook server will temporarily stop sending output\n",
      "to the client in order to avoid crashing it.\n",
      "To change this limit, set the config variable\n",
      "`--NotebookApp.iopub_msg_rate_limit`.\n",
      "\n",
      "Current values:\n",
      "NotebookApp.iopub_msg_rate_limit=1000.0 (msgs/sec)\n",
      "NotebookApp.rate_limit_window=3.0 (secs)\n",
      "\n"
     ]
    },
    {
     "name": "stdout",
     "output_type": "stream",
     "text": [
      "4257/5641 [=====================>........] - ETA: 8:09 - loss: 0.1807 - acc: 0.9605"
     ]
    },
    {
     "name": "stderr",
     "output_type": "stream",
     "text": [
      "IOPub message rate exceeded.\n",
      "The notebook server will temporarily stop sending output\n",
      "to the client in order to avoid crashing it.\n",
      "To change this limit, set the config variable\n",
      "`--NotebookApp.iopub_msg_rate_limit`.\n",
      "\n",
      "Current values:\n",
      "NotebookApp.iopub_msg_rate_limit=1000.0 (msgs/sec)\n",
      "NotebookApp.rate_limit_window=3.0 (secs)\n",
      "\n"
     ]
    },
    {
     "name": "stdout",
     "output_type": "stream",
     "text": [
      "5569/5641 [============================>.] - ETA: 25s - loss: 0.1769 - acc: 0.9623"
     ]
    },
    {
     "name": "stderr",
     "output_type": "stream",
     "text": [
      "IOPub message rate exceeded.\n",
      "The notebook server will temporarily stop sending output\n",
      "to the client in order to avoid crashing it.\n",
      "To change this limit, set the config variable\n",
      "`--NotebookApp.iopub_msg_rate_limit`.\n",
      "\n",
      "Current values:\n",
      "NotebookApp.iopub_msg_rate_limit=1000.0 (msgs/sec)\n",
      "NotebookApp.rate_limit_window=3.0 (secs)\n",
      "\n"
     ]
    },
    {
     "name": "stdout",
     "output_type": "stream",
     "text": [
      "5641/5641 [==============================] - 2065s 366ms/step - loss: 0.1757 - acc: 0.9608 - val_loss: 0.0655 - val_acc: 0.9728\n",
      "\n",
      "Epoch 00243: val_loss did not improve\n",
      "Epoch 244/1000\n",
      "1400/5641 [======>.......................] - ETA: 24:46 - loss: 0.1756 - acc: 0.9608"
     ]
    },
    {
     "name": "stderr",
     "output_type": "stream",
     "text": [
      "IOPub message rate exceeded.\n",
      "The notebook server will temporarily stop sending output\n",
      "to the client in order to avoid crashing it.\n",
      "To change this limit, set the config variable\n",
      "`--NotebookApp.iopub_msg_rate_limit`.\n",
      "\n",
      "Current values:\n",
      "NotebookApp.iopub_msg_rate_limit=1000.0 (msgs/sec)\n",
      "NotebookApp.rate_limit_window=3.0 (secs)\n",
      "\n"
     ]
    },
    {
     "name": "stdout",
     "output_type": "stream",
     "text": [
      "5641/5641 [==============================] - 2067s 366ms/step - loss: 0.1720 - acc: 0.9618 - val_loss: 0.0981 - val_acc: 0.9607\n",
      "\n",
      "Epoch 00244: val_loss did not improve\n",
      "Epoch 245/1000\n",
      "2728/5641 [=============>................] - ETA: 17:05 - loss: 0.1718 - acc: 0.9615"
     ]
    },
    {
     "name": "stderr",
     "output_type": "stream",
     "text": [
      "IOPub message rate exceeded.\n",
      "The notebook server will temporarily stop sending output\n",
      "to the client in order to avoid crashing it.\n",
      "To change this limit, set the config variable\n",
      "`--NotebookApp.iopub_msg_rate_limit`.\n",
      "\n",
      "Current values:\n",
      "NotebookApp.iopub_msg_rate_limit=1000.0 (msgs/sec)\n",
      "NotebookApp.rate_limit_window=3.0 (secs)\n",
      "\n"
     ]
    },
    {
     "name": "stdout",
     "output_type": "stream",
     "text": [
      "4267/5641 [=====================>........] - ETA: 8:05 - loss: 0.1784 - acc: 0.9606"
     ]
    },
    {
     "name": "stderr",
     "output_type": "stream",
     "text": [
      "IOPub message rate exceeded.\n",
      "The notebook server will temporarily stop sending output\n",
      "to the client in order to avoid crashing it.\n",
      "To change this limit, set the config variable\n",
      "`--NotebookApp.iopub_msg_rate_limit`.\n",
      "\n",
      "Current values:\n",
      "NotebookApp.iopub_msg_rate_limit=1000.0 (msgs/sec)\n",
      "NotebookApp.rate_limit_window=3.0 (secs)\n",
      "\n"
     ]
    },
    {
     "name": "stdout",
     "output_type": "stream",
     "text": [
      "5641/5641 [==============================] - 2077s 368ms/step - loss: 0.1752 - acc: 0.9614 - val_loss: 0.0784 - val_acc: 0.9686\n",
      "\n",
      "Epoch 00247: val_loss did not improve\n",
      "Epoch 248/1000\n",
      " 272/5641 [>.............................] - ETA: 30:34 - loss: 0.1646 - acc: 0.9627"
     ]
    },
    {
     "name": "stderr",
     "output_type": "stream",
     "text": [
      "IOPub message rate exceeded.\n",
      "The notebook server will temporarily stop sending output\n",
      "to the client in order to avoid crashing it.\n",
      "To change this limit, set the config variable\n",
      "`--NotebookApp.iopub_msg_rate_limit`.\n",
      "\n",
      "Current values:\n",
      "NotebookApp.iopub_msg_rate_limit=1000.0 (msgs/sec)\n",
      "NotebookApp.rate_limit_window=3.0 (secs)\n",
      "\n"
     ]
    },
    {
     "name": "stdout",
     "output_type": "stream",
     "text": [
      "5641/5641 [==============================] - 2068s 367ms/step - loss: 0.1705 - acc: 0.9614 - val_loss: 0.0699 - val_acc: 0.9717\n",
      "\n",
      "Epoch 00248: val_loss did not improve\n",
      "Epoch 249/1000\n",
      "4187/5641 [=====================>........] - ETA: 8:34 - loss: 0.1727 - acc: 0.9627"
     ]
    },
    {
     "name": "stderr",
     "output_type": "stream",
     "text": [
      "IOPub message rate exceeded.\n",
      "The notebook server will temporarily stop sending output\n",
      "to the client in order to avoid crashing it.\n",
      "To change this limit, set the config variable\n",
      "`--NotebookApp.iopub_msg_rate_limit`.\n",
      "\n",
      "Current values:\n",
      "NotebookApp.iopub_msg_rate_limit=1000.0 (msgs/sec)\n",
      "NotebookApp.rate_limit_window=3.0 (secs)\n",
      "\n"
     ]
    },
    {
     "name": "stdout",
     "output_type": "stream",
     "text": [
      "5641/5641 [==============================] - 2069s 367ms/step - loss: 0.1718 - acc: 0.9627 - val_loss: 0.0662 - val_acc: 0.9731\n",
      "\n",
      "Epoch 00249: val_loss did not improve\n",
      "Epoch 250/1000\n",
      "5641/5641 [==============================] - 2078s 368ms/step - loss: 0.1720 - acc: 0.9620 - val_loss: 0.0635 - val_acc: 0.9745\n",
      "\n",
      "Epoch 00250: val_loss did not improve\n",
      "Epoch 251/1000\n",
      "5641/5641 [==============================] - 2070s 367ms/step - loss: 0.1711 - acc: 0.9623 - val_loss: 0.0948 - val_acc: 0.9630\n",
      "\n",
      "Epoch 00251: val_loss did not improve\n",
      "Epoch 252/1000\n",
      "5641/5641 [==============================] - 2072s 367ms/step - loss: 0.1729 - acc: 0.9615 - val_loss: 0.0625 - val_acc: 0.9742\n",
      "\n",
      "Epoch 00252: val_loss did not improve\n",
      "Epoch 253/1000\n",
      "5641/5641 [==============================] - 2064s 366ms/step - loss: 0.1742 - acc: 0.9616 - val_loss: 0.0846 - val_acc: 0.9641\n",
      "\n",
      "Epoch 00253: val_loss did not improve\n",
      "Epoch 254/1000\n",
      "5641/5641 [==============================] - 2072s 367ms/step - loss: 0.1759 - acc: 0.9611 - val_loss: 0.0544 - val_acc: 0.9789\n",
      "\n",
      "Epoch 00254: val_loss improved from 0.05857 to 0.05440, saving model to small_model.h5\n",
      "Epoch 255/1000\n",
      "2903/5641 [==============>...............] - ETA: 16:05 - loss: 0.1703 - acc: 0.9626"
     ]
    }
   ],
   "source": [
    "model_final.fit_generator(\n",
    "    train_generator,\n",
    "    steps_per_epoch=nb_train_samples // batch_size,\n",
    "#     steps_per_epoch=200,\n",
    "    epochs=epochs,\n",
    "    validation_data=validation_generator,\n",
    "    validation_steps=nb_validation_samples // batch_size,\n",
    "#     validation_steps=50,\n",
    "    class_weight = {0:1 , 1:5},\n",
    "    callbacks = [checkpoint, early])"
   ]
  },
  {
   "cell_type": "markdown",
   "metadata": {},
   "source": [
    "# Test if the model generalizes to videos not seen before"
   ]
  },
  {
   "cell_type": "code",
   "execution_count": 4,
   "metadata": {},
   "outputs": [
    {
     "name": "stdout",
     "output_type": "stream",
     "text": [
      "_________________________________________________________________\n",
      "Layer (type)                 Output Shape              Param #   \n",
      "=================================================================\n",
      "input_2 (InputLayer)         (None, 224, 224, 3)       0         \n",
      "_________________________________________________________________\n",
      "conv2d_6 (Conv2D)            (None, 110, 110, 24)      1824      \n",
      "_________________________________________________________________\n",
      "conv2d_7 (Conv2D)            (None, 53, 53, 32)        19232     \n",
      "_________________________________________________________________\n",
      "conv2d_8 (Conv2D)            (None, 25, 25, 64)        51264     \n",
      "_________________________________________________________________\n",
      "max_pooling2d_4 (MaxPooling2 (None, 12, 12, 64)        0         \n",
      "_________________________________________________________________\n",
      "conv2d_9 (Conv2D)            (None, 10, 10, 64)        36928     \n",
      "_________________________________________________________________\n",
      "max_pooling2d_5 (MaxPooling2 (None, 5, 5, 64)          0         \n",
      "_________________________________________________________________\n",
      "conv2d_10 (Conv2D)           (None, 3, 3, 128)         73856     \n",
      "_________________________________________________________________\n",
      "max_pooling2d_6 (MaxPooling2 (None, 1, 1, 128)         0         \n",
      "_________________________________________________________________\n",
      "flatten_2 (Flatten)          (None, 128)               0         \n",
      "_________________________________________________________________\n",
      "dropout_4 (Dropout)          (None, 128)               0         \n",
      "_________________________________________________________________\n",
      "dense_4 (Dense)              (None, 100)               12900     \n",
      "_________________________________________________________________\n",
      "dropout_5 (Dropout)          (None, 100)               0         \n",
      "_________________________________________________________________\n",
      "dense_5 (Dense)              (None, 50)                5050      \n",
      "_________________________________________________________________\n",
      "dropout_6 (Dropout)          (None, 50)                0         \n",
      "_________________________________________________________________\n",
      "dense_6 (Dense)              (None, 2)                 102       \n",
      "=================================================================\n",
      "Total params: 201,156\n",
      "Trainable params: 201,156\n",
      "Non-trainable params: 0\n",
      "_________________________________________________________________\n"
     ]
    }
   ],
   "source": [
    "import keras\n",
    "import os\n",
    "import numpy as np\n",
    "import pandas as pd\n",
    "from PIL import Image\n",
    "import glob\n",
    "from keras.preprocessing.image import ImageDataGenerator\n",
    "\n",
    "%matplotlib inline\n",
    "import matplotlib.pyplot as plt\n",
    "\n",
    "model_name = 'small_model.h5'\n",
    "\n",
    "model = keras.models.load_model(model_name)\n",
    "model.summary()\n",
    "\n",
    "def load_image( infilename ) :\n",
    "    img = Image.open( infilename )\n",
    "    img.load()\n",
    "    data = np.asarray( img, dtype=\"float32\" )/255.0\n",
    "    return data"
   ]
  },
  {
   "cell_type": "markdown",
   "metadata": {},
   "source": [
    "### `test-224` contains videos that are not part of training or validation set.\n",
    "\n",
    "When the model is evaluated on the test set, it exhibits much higher loss (`2.5`) and lower accuracy (`0.69`) than validation loss/accuracy.\n",
    "\n",
    "My hypothesis for the overfitting is that the model learned the \"wrong features\", because the still images in validation and training sets share too much similarity since they came from the same set of videos. "
   ]
  },
  {
   "cell_type": "code",
   "execution_count": 12,
   "metadata": {},
   "outputs": [
    {
     "name": "stdout",
     "output_type": "stream",
     "text": [
      "Found 13420 images belonging to 2 classes.\n",
      "Loss:2.509437069892883\n",
      "Accuracy:0.69625\n"
     ]
    }
   ],
   "source": [
    "test_datagen = ImageDataGenerator(\n",
    "rescale = 1./255)\n",
    "\n",
    "test_generator = test_datagen.flow_from_directory(\n",
    "'/data/generated/test-224/',\n",
    "batch_size = batch_size,\n",
    "target_size = (img_height, img_width),\n",
    "shuffle=True,\n",
    "class_mode = \"categorical\")\n",
    "(loss, acc) = model.evaluate_generator(test_generator, steps=50, workers=2, use_multiprocessing=True)\n",
    "print(\"Loss:\" + str(loss))\n",
    "print(\"Accuracy:\" + str(acc))"
   ]
  }
 ],
 "metadata": {
  "kernelspec": {
   "display_name": "Python [default]",
   "language": "python",
   "name": "python3"
  },
  "language_info": {
   "codemirror_mode": {
    "name": "ipython",
    "version": 3
   },
   "file_extension": ".py",
   "mimetype": "text/x-python",
   "name": "python",
   "nbconvert_exporter": "python",
   "pygments_lexer": "ipython3",
   "version": "3.5.4"
  }
 },
 "nbformat": 4,
 "nbformat_minor": 2
}
